{
 "cells": [
  {
   "cell_type": "code",
   "execution_count": 2,
   "metadata": {},
   "outputs": [
    {
     "name": "stdout",
     "output_type": "stream",
     "text": [
      "{} {'__module__': '__main__', 'AA': <property object at 0x000001D6CA423630>, '__dict__': <attribute '__dict__' of 'Foo' objects>, '__weakref__': <attribute '__weakref__' of 'Foo' objects>, '__doc__': None}\n",
      "get\n",
      "set\n",
      "delete\n",
      "get的时候运行我啊\n",
      "set的时候运行我啊\n",
      "delete的时候运行我啊\n"
     ]
    }
   ],
   "source": [
    "# _*_ EG1. 再看property的两种用法：实现 get/set/delete 三种方法 _*_ #\n",
    "\n",
    "# 用法 1\n",
    "class Foo:\n",
    "    @property # AA -> property， get方法\n",
    "    def AA(self):\n",
    "        print('get')\n",
    "    \n",
    "    @AA.setter # 用 setter 装饰\n",
    "    def AA(self, value):\n",
    "        print('set')\n",
    "        \n",
    "    @AA.deleter # 用 deleter 装饰\n",
    "    def AA(self):\n",
    "        print('delete')\n",
    "        \n",
    "f = Foo()\n",
    "print(f.__dict__, Foo.__dict__)\n",
    "f.AA\n",
    "f.AA = 'x'\n",
    "del f.AA\n",
    "\n",
    "# 用法 2\n",
    "class Foo:\n",
    "    def get_AAA(self):\n",
    "        print('get的时候运行我啊')\n",
    " \n",
    "    def set_AAA(self,value):\n",
    "        print('set的时候运行我啊')\n",
    " \n",
    "    def delete_AAA(self):\n",
    "        print('delete的时候运行我啊')\n",
    "    \n",
    "    AAA=property(get_AAA,set_AAA,delete_AAA) #内置property三个参数与get,set,delete一一对应\n",
    " \n",
    "f1=Foo()\n",
    "f1.AAA\n",
    "f1.AAA='aaa'\n",
    "del f1.AAA"
   ]
  },
  {
   "cell_type": "code",
   "execution_count": 5,
   "metadata": {},
   "outputs": [
    {
     "name": "stdout",
     "output_type": "stream",
     "text": [
      "{'name': 'sb', 'age': 18, 'age1': 20}\n",
      "delete obj[key]\n",
      "delete obj.key\n",
      "delete obj.key\n",
      "{}\n"
     ]
    }
   ],
   "source": [
    "# _*_ EG2. __setitem__,__getitem__,__delitem__  _*_ #\n",
    "class Foo:\n",
    "    def __init__(self, name):\n",
    "        self.name = name\n",
    "        \n",
    "    def __getitem__(self, key):\n",
    "        return self.__dict__[key]\n",
    "    \n",
    "    def __setitem__(self, key, item):\n",
    "        self.__dict__[key] = item\n",
    "        \n",
    "    def __delitem__(self, item):\n",
    "        print('delete obj[key]')\n",
    "        self.__dict__.pop(item)\n",
    "    \n",
    "    def __delattr__(self, item):\n",
    "        print('delete obj.key')\n",
    "        self.__dict__.pop(item)\n",
    "        \n",
    "f = Foo('sb')\n",
    "f['age'] = 18\n",
    "f['age1'] = 20\n",
    "print(f.__dict__)\n",
    "\n",
    "del f['age']\n",
    "del f.age1\n",
    "\n",
    "f.name = '123'\n",
    "del f.name\n",
    "print(f.__dict__)"
   ]
  },
  {
   "cell_type": "code",
   "execution_count": 8,
   "metadata": {},
   "outputs": [
    {
     "name": "stdout",
     "output_type": "stream",
     "text": [
      "from repr: School(oldboy,北京)\n",
      "from str: (oldboy,北京)\n",
      "(oldboy,北京)\n",
      "oldboy-北京-私立\n",
      "私立:oldboy:北京\n",
      "私立/北京/oldboy\n",
      "oldboy-北京-私立\n"
     ]
    }
   ],
   "source": [
    "# _*_ EG3. __str__, __repr__, __format__  _*_ #\n",
    "'''\n",
    "改变对象的字符串显示__str__,__repr__；自定制格式化字符串__format__\n",
    "    str函数或者print函数--->obj.__str__()\n",
    "    repr或者交互式解释器--->obj.__repr__()\n",
    "    如果__str__没有被定义,那么就会使用__repr__来代替输出\n",
    "    注意:这俩方法的返回值必须是字符串,否则抛出异常\n",
    "'''\n",
    "format_dict = {\n",
    "    'nat': '{obj.name}-{obj.addr}-{obj.type}',\n",
    "    'tna': '{obj.type}:{obj.name}:{obj.addr}',\n",
    "    'tan': '{obj.type}/{obj.addr}/{obj.name}'\n",
    "}\n",
    "\n",
    "class School:\n",
    "    def __init__(self, name, addr, type):\n",
    "        self.name, self.addr, self.type = name, addr, type\n",
    "        \n",
    "    def __str__(self):\n",
    "        return '(%s,%s)' % (self.name, self.addr)\n",
    "    \n",
    "    def __repr__(self):\n",
    "        return 'School(%s,%s)' % (self.name, self.addr)\n",
    "    \n",
    "    def __format__(self, format_spec):\n",
    "        if not format_spec or format_spec not in format_dict:\n",
    "            format_spec = 'nat'\n",
    "        fmt = format_dict[format_spec]\n",
    "        return fmt.format(obj=self)\n",
    "    \n",
    "ss = School('oldboy', '北京', '私立')\n",
    "print('from repr:',repr(ss))\n",
    "print('from str:',str(ss))\n",
    "print(ss) # default -> __str__\n",
    "\n",
    "print(format(ss,'nat'))\n",
    "print(format(ss,'tna'))\n",
    "print(format(ss,'tan'))\n",
    "print(format(ss,'asfdasdffd'))"
   ]
  },
  {
   "cell_type": "code",
   "execution_count": 11,
   "metadata": {},
   "outputs": [
    {
     "name": "stdout",
     "output_type": "stream",
     "text": [
      "['name', 'age']\n",
      "['name', 'age']\n",
      "{'__module__': '__main__', '__slots__': ['name', 'age'], 'age': <member 'age' of 'Foo' objects>, 'name': <member 'name' of 'Foo' objects>, '__doc__': None}\n"
     ]
    }
   ],
   "source": [
    "# _*_ EG4. slots _*_ #\n",
    "'''\n",
    "1.__slots__是什么:是一个类变量,变量值可以是列表,元祖,或者可迭代对象,\n",
    "也可以是一个字符串(意味着所有实例只有一个数据属性)\n",
    " \n",
    "2.引子:使用点来访问属性本质就是在访问类或者对象的__dict__属性字典\n",
    "(类的字典是共享的,而每个实例的是独立的)\n",
    " \n",
    "3.为何使用__slots__:字典会占用大量内存,如果你有一个属性很少的类,\n",
    "但是有很多实例,为了节省内存可以使用__slots__取代实例的__dict__\n",
    "当你定义__slots__后,__slots__就会为实例使用一种更加紧凑的内部表示。\n",
    "实例通过一个很小的固定大小的数组来构建,而不是为每个实例定义一个\n",
    "字典,这跟元组或列表很类似。在__slots__中列出的属性名在内部被映射到\n",
    "这个数组的指定小标上。使用__slots__一个不好的地方就是我们不能再给\n",
    "实例添加新的属性了,只能使用在__slots__中定义的那些属性名。\n",
    " \n",
    "4.注意事项:__slots__的很多特性都依赖于普通的基于字典的实现。另外,\n",
    "定义了__slots__后的类不再 支持一些普通类特性了,比如多继承。大多数情况下,\n",
    "你应该只在那些经常被使用到 的用作数据结构的类上定义__slots__比如在程序\n",
    "中需要创建某个类的几百万个实例对象 。\n",
    "关于__slots__的一个常见误区是它可以作为一个封装工具来防止用户给实例增\n",
    "加新的属性。尽管使用__slots__可以达到这样的目的,但是这个并不是它的初衷。\n",
    "  更多的是用来作为一个内存优化工具。\n",
    "'''\n",
    "\n",
    "class Foo:\n",
    "    __slots__=['name','age']\n",
    " \n",
    "f1=Foo()\n",
    "f1.name='alex'\n",
    "f1.age=18\n",
    "# print(f1.__dict__)\n",
    "print(f1.__slots__)\n",
    " \n",
    "f2=Foo()\n",
    "f2.name='egon'\n",
    "f2.age=19\n",
    "# print(f2.__dict__)\n",
    "print(f2.__slots__)\n",
    " \n",
    "print(Foo.__dict__)\n",
    "#f1与f2都没有属性字典__dict__了,统一归__slots__管,节省内存"
   ]
  },
  {
   "cell_type": "code",
   "execution_count": 12,
   "metadata": {},
   "outputs": [
    {
     "name": "stdout",
     "output_type": "stream",
     "text": [
      "1\n",
      "1\n",
      "2\n",
      "3 5 8 13 21 34 55 89 "
     ]
    }
   ],
   "source": [
    "#  _*_ EG5. __next__, __iter__ 实现迭代器协议  _*_ #\n",
    "class Fib:\n",
    "    def __init__(self):\n",
    "        self._a=0\n",
    "        self._b=1\n",
    " \n",
    "    def __iter__(self): # 可迭代的\n",
    "        return self\n",
    " \n",
    "    def __next__(self): # 可 for 遍历的\n",
    "        self._a,self._b=self._b,self._a + self._b\n",
    "        return self._a\n",
    " \n",
    "f1=Fib()\n",
    " \n",
    "print(f1.__next__())\n",
    "print(next(f1))\n",
    "print(next(f1))\n",
    " \n",
    "for i in f1:\n",
    "    if i > 100:\n",
    "        break\n",
    "    print('%s ' %i,end='')"
   ]
  },
  {
   "cell_type": "code",
   "execution_count": 14,
   "metadata": {},
   "outputs": [
    {
     "name": "stdout",
     "output_type": "stream",
     "text": [
      "None\n",
      "__main__\n",
      "<class '__main__.Bar'>\n"
     ]
    }
   ],
   "source": [
    "# _*_ EG6. __doc__ 类的描述信息，无法被继承 _*_ #\n",
    "# __module__ 表示当前操作的对象在那个模块\n",
    "# __class__ 表示当前操作的对象的类是什么\n",
    "\n",
    "class Foo:\n",
    "    '我是描述信息'\n",
    "    pass\n",
    " \n",
    "class Bar(Foo):\n",
    "    pass\n",
    "\n",
    "bar = Bar()\n",
    "print(bar.__doc__) #该属性无法继承给子类\n",
    "print(bar.__module__)\n",
    "print(bar.__class__)"
   ]
  },
  {
   "cell_type": "code",
   "execution_count": 21,
   "metadata": {},
   "outputs": [
    {
     "name": "stdout",
     "output_type": "stream",
     "text": [
      "release memory\n"
     ]
    }
   ],
   "source": [
    "# _*_ EG7. __del__ 析构方法，当对象释放时，自动执行释放内存 _*_ #\n",
    "'''\n",
    "如果产生的对象仅仅只是python程序级别的（用户级），那么无需定义__del__\n",
    "如果产生的对象的同时还会向操作系统发起系统调用，即一个对象有用户级与内核级两种资源\n",
    "比如（打开一个文件，创建一个数据库链接）,则必须在清除对象的同时回收系统资源，这就用到了__del__\n",
    "'''\n",
    "class Foo:\n",
    "    def __del__(self):\n",
    "        print('release memory')\n",
    "        \n",
    "f = Foo()\n",
    "del f\n",
    "\n",
    "'''\n",
    "典型的应用场景：\n",
    "\n",
    "创建数据库类，用该类实例化出数据库链接对象，对象本身是存放于用户空间内存中，而链接则是由操作系统管理的，存放于内核空间内存中\n",
    "\n",
    "当程序结束时，python只会回收自己的内存空间，即用户态内存，而操作系统的资源则没有被回收，这就需要我们定制__del__，在对象被删除前向操作系统发起关闭数据库链接的系统调用，回收资源\n",
    "'''\n",
    "\n",
    "f=open('a.txt') #做了两件事，在用户空间拿到一个f变量，在操作系统内核空间打开一个文件\n",
    "del f #只回收用户空间的f，操作系统的文件还处于打开状态\n",
    " \n",
    "#所以我们应该在del f之前保证f.close()执行,即便是没有del，程序执行完毕也会自动del清理资源，于是文件操作的正确用法应该是\n",
    "f=open('a.txt')\n",
    "f.close()"
   ]
  },
  {
   "cell_type": "code",
   "execution_count": 24,
   "metadata": {},
   "outputs": [
    {
     "name": "stdout",
     "output_type": "stream",
     "text": [
      "出现with语句,对象的__enter__被触发,有返回值则赋值给as声明的变量\n",
      "=====>执行代码块\n",
      "with中代码块执行完毕时执行我啊\n",
      "<class 'AttributeError'>\n",
      "***着火啦,救火啊***\n",
      "<traceback object at 0x000001D6C9C8A9C0>\n",
      "0000000000000000000000000000000000000000000000000000000000000000000000000000000000000000000000000000\n"
     ]
    }
   ],
   "source": [
    "#  _*_ EG8. with 上下文管理协议的实现：__enter__, __exit__  _*_ #\n",
    "\n",
    "# __exit__()中的三个参数分别代表异常类型，异常值和追溯信息,with语句中代码块出现异常，则with后的代码都无法执行\n",
    "'''\n",
    "class Open:\n",
    "    def __init__(self,name):\n",
    "        self.name=name\n",
    " \n",
    "    def __enter__(self):\n",
    "        print('出现with语句,对象的__enter__被触发,有返回值则赋值给as声明的变量')\n",
    " \n",
    "    def __exit__(self, exc_type, exc_val, exc_tb):\n",
    "        print('with中代码块执行完毕时执行我啊')\n",
    "        print(exc_type)\n",
    "        print(exc_val)\n",
    "        print(exc_tb)\n",
    " \n",
    " \n",
    " \n",
    "with Open('a.txt') as f:\n",
    "    print('=====>执行代码块')\n",
    "    raise AttributeError('***着火啦,救火啊***')\n",
    "print('0'*100) # 不会执行\n",
    "'''\n",
    "# 如果__exit()返回值为True,那么异常会被清空，就好像啥都没发生一样，with后的语句正常执行\n",
    "class Open:\n",
    "    def __init__(self,name):\n",
    "        self.name=name\n",
    " \n",
    "    def __enter__(self):\n",
    "        print('出现with语句,对象的__enter__被触发,有返回值则赋值给as声明的变量')\n",
    " \n",
    "    def __exit__(self, exc_type, exc_val, exc_tb):\n",
    "        print('with中代码块执行完毕时执行我啊')\n",
    "        print(exc_type)\n",
    "        print(exc_val)\n",
    "        print(exc_tb)\n",
    "        return True\n",
    "\n",
    "with Open('a.txt') as f:\n",
    "    print('=====>执行代码块')\n",
    "    raise AttributeError('***着火啦,救火啊***')\n",
    "print('0'*100) # 会执行\n",
    "\n",
    "\n",
    "# Open 练习\n",
    "class Open:\n",
    "    def __init__(self,filepath,mode='r',encoding='utf-8'):\n",
    "        self.filepath=filepath\n",
    "        self.mode=mode\n",
    "        self.encoding=encoding\n",
    " \n",
    "    def __enter__(self):\n",
    "        # print('enter')\n",
    "        self.f=open(self.filepath,mode=self.mode,encoding=self.encoding)\n",
    "        return self.f\n",
    " \n",
    "    def __exit__(self, exc_type, exc_val, exc_tb):\n",
    "        # print('exit')\n",
    "        self.f.close()\n",
    "        return True\n",
    "    def __getattr__(self, item):\n",
    "        return getattr(self.f,item)\n",
    " \n",
    "with Open('a.txt','w') as f:\n",
    "    print(f)\n",
    "    f.write('aaaaaa')\n",
    "    f.wasdf #抛出异常，交给__exit__处理"
   ]
  },
  {
   "cell_type": "code",
   "execution_count": 25,
   "metadata": {},
   "outputs": [
    {
     "name": "stdout",
     "output_type": "stream",
     "text": [
      "__call__\n"
     ]
    }
   ],
   "source": [
    "# _*_ EG9. __call__：对象后面加括号，触发执行 _*_ #\n",
    "'''\n",
    "析构方法的执行，是有创建的对象触发的，即：对象 = 类名()\n",
    "而对于 __call__ 方法的执行，是由：对象() = 类名()() 触发的\n",
    "'''\n",
    "class Foo:\n",
    " \n",
    "    def __init__(self):\n",
    "        pass\n",
    " \n",
    "    def __call__(self, *args, **kwargs): \n",
    "        print('__call__')\n",
    " \n",
    " \n",
    "obj = Foo() # 执行 __init__\n",
    "obj()       # 执行 __call__"
   ]
  }
 ],
 "metadata": {
  "kernelspec": {
   "display_name": "Python 3",
   "language": "python",
   "name": "python3"
  },
  "language_info": {
   "codemirror_mode": {
    "name": "ipython",
    "version": 3
   },
   "file_extension": ".py",
   "mimetype": "text/x-python",
   "name": "python",
   "nbconvert_exporter": "python",
   "pygments_lexer": "ipython3",
   "version": "3.8.5"
  }
 },
 "nbformat": 4,
 "nbformat_minor": 4
}
