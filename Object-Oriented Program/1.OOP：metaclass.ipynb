{
 "cells": [
  {
   "cell_type": "code",
   "execution_count": 1,
   "metadata": {
    "collapsed": true
   },
   "outputs": [
    {
     "name": "stdout",
     "output_type": "stream",
     "text": [
      "{'x': 100, 'y': 2, '__builtins__': {'__name__': 'builtins', '__doc__': \"Built-in functions, exceptions, and other objects.\\n\\nNoteworthy: None is the `nil' object; Ellipsis represents `...' in slices.\", '__package__': '', '__loader__': <class '_frozen_importlib.BuiltinImporter'>, '__spec__': ModuleSpec(name='builtins', loader=<class '_frozen_importlib.BuiltinImporter'>), '__build_class__': <built-in function __build_class__>, '__import__': <built-in function __import__>, 'abs': <built-in function abs>, 'all': <built-in function all>, 'any': <built-in function any>, 'ascii': <built-in function ascii>, 'bin': <built-in function bin>, 'breakpoint': <built-in function breakpoint>, 'callable': <built-in function callable>, 'chr': <built-in function chr>, 'compile': <built-in function compile>, 'delattr': <built-in function delattr>, 'dir': <built-in function dir>, 'divmod': <built-in function divmod>, 'eval': <built-in function eval>, 'exec': <built-in function exec>, 'format': <built-in function format>, 'getattr': <built-in function getattr>, 'globals': <built-in function globals>, 'hasattr': <built-in function hasattr>, 'hash': <built-in function hash>, 'hex': <built-in function hex>, 'id': <built-in function id>, 'input': <bound method Kernel.raw_input of <ipykernel.ipkernel.IPythonKernel object at 0x000001ACC8011100>>, 'isinstance': <built-in function isinstance>, 'issubclass': <built-in function issubclass>, 'iter': <built-in function iter>, 'len': <built-in function len>, 'locals': <built-in function locals>, 'max': <built-in function max>, 'min': <built-in function min>, 'next': <built-in function next>, 'oct': <built-in function oct>, 'ord': <built-in function ord>, 'pow': <built-in function pow>, 'print': <built-in function print>, 'repr': <built-in function repr>, 'round': <built-in function round>, 'setattr': <built-in function setattr>, 'sorted': <built-in function sorted>, 'sum': <built-in function sum>, 'vars': <built-in function vars>, 'None': None, 'Ellipsis': Ellipsis, 'NotImplemented': NotImplemented, 'False': False, 'True': True, 'bool': <class 'bool'>, 'memoryview': <class 'memoryview'>, 'bytearray': <class 'bytearray'>, 'bytes': <class 'bytes'>, 'classmethod': <class 'classmethod'>, 'complex': <class 'complex'>, 'dict': <class 'dict'>, 'enumerate': <class 'enumerate'>, 'filter': <class 'filter'>, 'float': <class 'float'>, 'frozenset': <class 'frozenset'>, 'property': <class 'property'>, 'int': <class 'int'>, 'list': <class 'list'>, 'map': <class 'map'>, 'object': <class 'object'>, 'range': <class 'range'>, 'reversed': <class 'reversed'>, 'set': <class 'set'>, 'slice': <class 'slice'>, 'staticmethod': <class 'staticmethod'>, 'str': <class 'str'>, 'super': <class 'super'>, 'tuple': <class 'tuple'>, 'type': <class 'type'>, 'zip': <class 'zip'>, '__debug__': True, 'BaseException': <class 'BaseException'>, 'Exception': <class 'Exception'>, 'TypeError': <class 'TypeError'>, 'StopAsyncIteration': <class 'StopAsyncIteration'>, 'StopIteration': <class 'StopIteration'>, 'GeneratorExit': <class 'GeneratorExit'>, 'SystemExit': <class 'SystemExit'>, 'KeyboardInterrupt': <class 'KeyboardInterrupt'>, 'ImportError': <class 'ImportError'>, 'ModuleNotFoundError': <class 'ModuleNotFoundError'>, 'OSError': <class 'OSError'>, 'EnvironmentError': <class 'OSError'>, 'IOError': <class 'OSError'>, 'WindowsError': <class 'OSError'>, 'EOFError': <class 'EOFError'>, 'RuntimeError': <class 'RuntimeError'>, 'RecursionError': <class 'RecursionError'>, 'NotImplementedError': <class 'NotImplementedError'>, 'NameError': <class 'NameError'>, 'UnboundLocalError': <class 'UnboundLocalError'>, 'AttributeError': <class 'AttributeError'>, 'SyntaxError': <class 'SyntaxError'>, 'IndentationError': <class 'IndentationError'>, 'TabError': <class 'TabError'>, 'LookupError': <class 'LookupError'>, 'IndexError': <class 'IndexError'>, 'KeyError': <class 'KeyError'>, 'ValueError': <class 'ValueError'>, 'UnicodeError': <class 'UnicodeError'>, 'UnicodeEncodeError': <class 'UnicodeEncodeError'>, 'UnicodeDecodeError': <class 'UnicodeDecodeError'>, 'UnicodeTranslateError': <class 'UnicodeTranslateError'>, 'AssertionError': <class 'AssertionError'>, 'ArithmeticError': <class 'ArithmeticError'>, 'FloatingPointError': <class 'FloatingPointError'>, 'OverflowError': <class 'OverflowError'>, 'ZeroDivisionError': <class 'ZeroDivisionError'>, 'SystemError': <class 'SystemError'>, 'ReferenceError': <class 'ReferenceError'>, 'MemoryError': <class 'MemoryError'>, 'BufferError': <class 'BufferError'>, 'Warning': <class 'Warning'>, 'UserWarning': <class 'UserWarning'>, 'DeprecationWarning': <class 'DeprecationWarning'>, 'PendingDeprecationWarning': <class 'PendingDeprecationWarning'>, 'SyntaxWarning': <class 'SyntaxWarning'>, 'RuntimeWarning': <class 'RuntimeWarning'>, 'FutureWarning': <class 'FutureWarning'>, 'ImportWarning': <class 'ImportWarning'>, 'UnicodeWarning': <class 'UnicodeWarning'>, 'BytesWarning': <class 'BytesWarning'>, 'ResourceWarning': <class 'ResourceWarning'>, 'ConnectionError': <class 'ConnectionError'>, 'BlockingIOError': <class 'BlockingIOError'>, 'BrokenPipeError': <class 'BrokenPipeError'>, 'ChildProcessError': <class 'ChildProcessError'>, 'ConnectionAbortedError': <class 'ConnectionAbortedError'>, 'ConnectionRefusedError': <class 'ConnectionRefusedError'>, 'ConnectionResetError': <class 'ConnectionResetError'>, 'FileExistsError': <class 'FileExistsError'>, 'FileNotFoundError': <class 'FileNotFoundError'>, 'IsADirectoryError': <class 'IsADirectoryError'>, 'NotADirectoryError': <class 'NotADirectoryError'>, 'InterruptedError': <class 'InterruptedError'>, 'PermissionError': <class 'PermissionError'>, 'ProcessLookupError': <class 'ProcessLookupError'>, 'TimeoutError': <class 'TimeoutError'>, 'open': <built-in function open>, 'copyright': Copyright (c) 2001-2020 Python Software Foundation.\n",
      "All Rights Reserved.\n",
      "\n",
      "Copyright (c) 2000 BeOpen.com.\n",
      "All Rights Reserved.\n",
      "\n",
      "Copyright (c) 1995-2001 Corporation for National Research Initiatives.\n",
      "All Rights Reserved.\n",
      "\n",
      "Copyright (c) 1991-1995 Stichting Mathematisch Centrum, Amsterdam.\n",
      "All Rights Reserved., 'credits':     Thanks to CWI, CNRI, BeOpen.com, Zope Corporation and a cast of thousands\n",
      "    for supporting Python development.  See www.python.org for more information., 'license': See https://www.python.org/psf/license/, 'help': Type help() for interactive help, or help(object) for help about object., '__IPYTHON__': True, 'display': <function display at 0x000001ACC60D7AF0>, 'get_ipython': <bound method InteractiveShell.get_ipython of <ipykernel.zmqshell.ZMQInteractiveShell object at 0x000001ACC802F970>>}, 'z': 200}\n",
      "{'m': 300}\n"
     ]
    }
   ],
   "source": [
    "# _*_ EG1. exec(str, globals, locals) _*_ #\n",
    "#可以把exec命令的执行当成是一个函数的执行，会将执行期间产生的名字存放于局部名称空间中\n",
    "g={\n",
    "    'x':1,\n",
    "    'y':2\n",
    "}\n",
    "l={}\n",
    " \n",
    "exec('''\n",
    "global x,z\n",
    "x=100\n",
    "z=200\n",
    " \n",
    "m=300\n",
    "''',g,l)\n",
    " \n",
    "print(g) #{'x': 100, 'y': 2,'z':200,......}\n",
    "print(l) #{'m': 300}"
   ]
  },
  {
   "cell_type": "code",
   "execution_count": 2,
   "metadata": {},
   "outputs": [
    {
     "name": "stdout",
     "output_type": "stream",
     "text": [
      "<class 'type'>\n"
     ]
    }
   ],
   "source": [
    "# _*_ EG2. 类也是对象 _*_ #\n",
    "# 1.type 函数可以查看类型，也可以用来查看对象所属的类\n",
    "print(type(list))\n",
    "\n",
    "# 2.type 函数还可以动态创建类\n",
    "'''\n",
    "type(name of the class,\n",
    "     tuple of the parent class (for inheritance, can be empty),\n",
    "     dictionary containing attributes names and values)\n",
    "'''\n",
    "type('FooChild', (Foo,), {'echo_bar': echo_bar}) \n",
    "<==>\n",
    "class FooChild(Foo):\n",
    "    def echo_bar:  pass\n",
    "    \n",
    "# 3.元类是类的模板，元类 metaclass 的实例化 -> 类class，类class的实例化 -> 对象object\n",
    "# ype是python的一个内建元类，用来直接控制生成类，python中任何class定义的类其实都是type类实例化的对象"
   ]
  },
  {
   "cell_type": "code",
   "execution_count": 10,
   "metadata": {},
   "outputs": [
    {
     "name": "stdout",
     "output_type": "stream",
     "text": [
      "\n",
      "    有注释\n",
      "    \n",
      "<class '__main__.Mymeta'>\n",
      "<class 'int'>\n",
      "<class 'str'>\n",
      "<class 'type'>\n",
      "<class 'type'>\n",
      "<class 'type'>\n"
     ]
    }
   ],
   "source": [
    "# _*_ EG3. 类的元类探索 _*_ #\n",
    "\n",
    "class Mymeta(type):\n",
    " \n",
    "    def __init__(self,class_name,class_bases,class_dic):\n",
    "        if not class_name.istitle():\n",
    "            raise TypeError('类名的首字母必须大写')\n",
    "        if '__doc__' not in class_dic or not class_dic['__doc__'].strip():\n",
    "            raise TypeError('必须有注释，且注释不能为空')\n",
    "        super(Mymeta,self).__init__(class_name,class_bases,class_dic)\n",
    "\n",
    "class Chinese(object, metaclass=Mymeta):\n",
    "    '''\n",
    "    有注释\n",
    "    '''\n",
    "    country = 'china'\n",
    " \n",
    "    def __init__(self,name,age):\n",
    "        self.name = name\n",
    "        self.age = age\n",
    "    def talk(self):\n",
    "        print('%s is talking'%self.name)\n",
    "        \n",
    "print(Chinese.__doc__)\n",
    "print(Chinese.__class__)\n",
    "\n",
    "age,name = 35, 'bob'\n",
    "print(age.__class__) # == type(age)\n",
    "print(name.__class__)# == type(name)\n",
    "print(age.__class__.__class__)\n",
    "print(name.__class__.__class__)\n",
    "\n",
    "print(type(name.__class__))"
   ]
  },
  {
   "cell_type": "code",
   "execution_count": 9,
   "metadata": {},
   "outputs": [
    {
     "name": "stdout",
     "output_type": "stream",
     "text": [
      "{'country': 'China', '__init__': <function __init__ at 0x000001ACCA3269D0>, 'talk': <function talk at 0x000001ACCA326820>}\n",
      "<class '__main__.Chinese'>\n",
      "<class 'type'>\n",
      "True\n"
     ]
    }
   ],
   "source": [
    "# _*_ EG4. 手动模拟类的创建过程 _*_ #\n",
    "\n",
    "class_name = 'Chinese'\n",
    "class_bases = (object, )\n",
    "class_body = \"\"\"\n",
    "country = 'China'\n",
    "def __init__(self, name, age):\n",
    "    self.name, self.age = name, age\n",
    "def talk(self):\n",
    "    print('%s is talking' % self.name)\n",
    "\"\"\"\n",
    "\n",
    "# step 1:（先处理类体->名称空间）：\n",
    "# 类体定义的名字都会存放于类的名称空间中（一个局部的名称空间），\n",
    "# 可以事先定义一个空字典，然后用exec去执行类体的代码（exec产生名称空间的过程与真正的class过程类似，只是后者会将__开头的属性变形），生成类的局部名称空间，即填充字典\n",
    "class_dic = {}\n",
    "exec(class_body, globals(), class_dic)\n",
    "print(class_dic)\n",
    "\n",
    "# step 2: 调用元类 type\n",
    "Foo = type(class_name, class_bases, class_dic)\n",
    "print(Foo)\n",
    "print(type(Foo))\n",
    "print(isinstance(Foo, type))"
   ]
  },
  {
   "cell_type": "code",
   "execution_count": null,
   "metadata": {},
   "outputs": [],
   "source": [
    "# _*_ EG5. 自定义元类，控制类的行为 _*_ #\n",
    "# 元类的目的：创建类时，做一些自动化的处理、初始化\n",
    "\n",
    "# eg1. 使得类的所有属性初始字符大写\n",
    "class UpperAttrMetaclass(type):\n",
    "    # __new__ 方法在 __init__ 前执行，这个方法创建对象并返回。\n",
    "    # __init__方法仅仅初始化作为参数传入的对象。\n",
    "    # 你很少使用__new__方法，除非你想控制类是如何创建的。\n",
    "    # 这里创建的对象是一个类，我们想自定义它，因此需要覆盖 __new__。\n",
    "    # 你也能在__init__中做一些事情，如果愿意的话。\n",
    "    # 一些高级用法还包括覆盖__call__方法，这里不使用。\n",
    "    def __new__(upperattr_metaclass, future_class_name,\n",
    "                future_class_parents, future_class_attr):\n",
    " \n",
    "        uppercase_attr = {}\n",
    "        for name, val in future_class_attr.items():\n",
    "            if not name.startswith('__'):\n",
    "                uppercase_attr[name.upper()] = val\n",
    "            else:\n",
    "                uppercase_attr[name] = val\n",
    " \n",
    "        return type(future_class_name, future_class_parents, uppercase_attr)\n",
    "\n",
    "\n",
    "# eg2. 上例中并未覆盖或者调用type.__new__，显得不够OOP\n",
    "# 参数upperattr_metaclass，事实上：__new__方法总是接受定义的类作为第一个参数，就像初始化实例时第一个参数传入self\n",
    "class UpperAttrMetaclass(type):\n",
    " \n",
    "    def __new__(upperattr_metaclass, future_class_name,\n",
    "                future_class_parents, future_class_attr):\n",
    " \n",
    "        uppercase_attr = {}\n",
    "        for name, val in future_class_attr.items():\n",
    "            if not name.startswith('__'):\n",
    "                uppercase_attr[name.upper()] = val\n",
    "            else:\n",
    "                uppercase_attr[name] = val\n",
    " \n",
    "        # 重用了type.__new__方法，这种写法是OOP的\n",
    "        return type.__new__(upperattr_metaclass, future_class_name,\n",
    "                            future_class_parents, uppercase_attr)\n",
    "    \n",
    "\n",
    "# eg3. 更标准一些的写法\n",
    "class UpperAttrMetaclass(type):\n",
    " \n",
    "    def __new__(cls, clsname, bases, dct):\n",
    " \n",
    "        uppercase_attr = {}\n",
    "        for name, val in dct.items():\n",
    "            if not name.startswith('__'):\n",
    "                uppercase_attr[name.upper()] = val\n",
    "            else:\n",
    "                uppercase_attr[name] = val\n",
    " \n",
    "        return super(UpperAttrMetaclass, cls).__new__(cls, clsname, bases, uppercase_attr)"
   ]
  },
  {
   "cell_type": "code",
   "execution_count": 13,
   "metadata": {},
   "outputs": [
    {
     "name": "stdout",
     "output_type": "stream",
     "text": [
      "{'__module__': '__main__', 'COUNTRY': 'China', 'TAG': 'Legend of the Dragon', 'walk': <function Chinese.walk at 0x000001ACCA326700>, '__dict__': <attribute '__dict__' of 'Chinese' objects>, '__weakref__': <attribute '__weakref__' of 'Chinese' objects>, '__doc__': None}\n",
      "{'NAME': 'egon', 'AGE': 18, 'SEX': 'male'}\n"
     ]
    }
   ],
   "source": [
    "# 在元类中控制把自定义类的数据属性都变成大写\n",
    "class Mymetaclass(type):\n",
    "    def __new__(cls,name,bases,attrs):\n",
    "        update_attrs={}\n",
    "        for k,v in attrs.items():\n",
    "            if not callable(v) and not k.startswith('__'):\n",
    "                update_attrs[k.upper()]=v\n",
    "            else:\n",
    "                update_attrs[k]=v\n",
    "        return type.__new__(cls,name,bases,update_attrs)\n",
    " \n",
    "class Chinese(metaclass=Mymetaclass):\n",
    "    country='China'\n",
    "    tag='Legend of the Dragon' #龙的传人\n",
    "    def walk(self):\n",
    "        print('%s is walking' %self.name)\n",
    " \n",
    " \n",
    "print(Chinese.__dict__)\n",
    "\n",
    "# 在元类中控制自定义的类无需__init__方法\n",
    "'''\n",
    "1.元类帮其完成创建对象，以及初始化操作；\n",
    "2.要求实例化时传参必须为关键字形式，否则抛出异常TypeError: must use keyword argument\n",
    "3.key作为用户自定义类产生对象的属性，且所有属性变成大写\n",
    "'''\n",
    "class Mymetaclass(type):\n",
    "    # def __new__(cls,name,bases,attrs):\n",
    "    #     update_attrs={}\n",
    "    #     for k,v in attrs.items():\n",
    "    #         if not callable(v) and not k.startswith('__'):\n",
    "    #             update_attrs[k.upper()]=v\n",
    "    #         else:\n",
    "    #             update_attrs[k]=v\n",
    "    #     return type.__new__(cls,name,bases,update_attrs)\n",
    " \n",
    "    def __call__(self, *args, **kwargs):\n",
    "        if args:\n",
    "            raise TypeError('must use keyword argument for key function')\n",
    "        obj = object.__new__(self) #创建对象，self为类Foo\n",
    " \n",
    "        for k,v in kwargs.items():\n",
    "            obj.__dict__[k.upper()]=v\n",
    "        return obj\n",
    " \n",
    "class Chinese(metaclass=Mymetaclass):\n",
    "    country='China'\n",
    "    tag='Legend of the Dragon' #龙的传人\n",
    "    def walk(self):\n",
    "        print('%s is walking' %self.name)\n",
    " \n",
    " \n",
    "p=Chinese(name='egon',age=18,sex='male')\n",
    "print(p.__dict__)"
   ]
  },
  {
   "cell_type": "code",
   "execution_count": null,
   "metadata": {},
   "outputs": [],
   "source": []
  }
 ],
 "metadata": {
  "kernelspec": {
   "display_name": "Python 3",
   "language": "python",
   "name": "python3"
  },
  "language_info": {
   "codemirror_mode": {
    "name": "ipython",
    "version": 3
   },
   "file_extension": ".py",
   "mimetype": "text/x-python",
   "name": "python",
   "nbconvert_exporter": "python",
   "pygments_lexer": "ipython3",
   "version": "3.8.5"
  }
 },
 "nbformat": 4,
 "nbformat_minor": 4
}
