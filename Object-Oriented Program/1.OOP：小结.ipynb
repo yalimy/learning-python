{
 "cells": [
  {
   "cell_type": "code",
   "execution_count": null,
   "metadata": {},
   "outputs": [],
   "source": [
    "1.面向对象的三大特性，及其用处：\n",
    "    继承：解决代码重用\n",
    "    多态：易扩展性\n",
    "    封装：隔离性\n",
    "    \n",
    "2.类的属性与对象的属性区别：\n",
    "    类的属性：数据属性和函数属性，数据属性是所有对象共享的，函数属性是绑定对象使用的\n",
    "    对象的属性：对象是类的实例化\n",
    "    \n",
    "3.类和对象在内存中时如何保存的？\n",
    "    类和对象的属性：以字典的形式保存\n",
    "    \n",
    "4.绑定方法：\n",
    "    无装饰器的方法 -> 对象方法\n",
    "    @classmethod   -> 类方法\n",
    "    @staticmethod  -> 不与类和对象绑定，谁都可以调用\n",
    "    \n",
    "5.类的私有属性，已经自动进行转换，调用时要注意名称\n"
   ]
  },
  {
   "cell_type": "code",
   "execution_count": 4,
   "metadata": {},
   "outputs": [
    {
     "name": "stdout",
     "output_type": "stream",
     "text": [
      "{'__module__': '__main__', '_People__name': 'luffy', '_People__age': 18, '__dict__': <attribute '__dict__' of 'People' objects>, '__weakref__': <attribute '__weakref__' of 'People' objects>, '__doc__': None}\n",
      "{}\n",
      "luffy\n",
      "__new__\n",
      "__init__\n",
      "1 1 1\n",
      "1 2 1\n",
      "3 2 3\n"
     ]
    }
   ],
   "source": [
    "# EG. 5\n",
    "class People(object):\n",
    "    __name = \"luffy\"\n",
    "    __age = 18\n",
    "  \n",
    "p1 = People()\n",
    "print(People.__dict__)\n",
    "print(p1.__dict__)\n",
    "print(p1._People__name)\n",
    "\n",
    "# EG. 6 元类输出\n",
    "class People(object):\n",
    " \n",
    "   def __init__(self):\n",
    "       print(\"__init__\")\n",
    " \n",
    "   def __new__(cls, *args, **kwargs):\n",
    "       print(\"__new__\")\n",
    "       return object.__new__(cls, *args, **kwargs)\n",
    " \n",
    "People()\n",
    "\n",
    "# EG. 7 父类的数据属性继承\n",
    "class Parent(object):\n",
    "   x = 1\n",
    " \n",
    "class Child1(Parent):\n",
    "   pass\n",
    " \n",
    "class Child2(Parent):\n",
    "   pass\n",
    " \n",
    "print(Parent.x, Child1.x, Child2.x)\n",
    "Child1.x = 2\n",
    "print(Parent.x, Child1.x, Child2.x)\n",
    "Parent.x = 3\n",
    "print(Parent.x, Child1.x, Child2.x)\n",
    " \n",
    "# 1 1 1 继承自父类的类属性x，所以都一样，指向同一块内存地址\n",
    "# 1 2 1 更改Child1，Child1的x指向了新的内存地址\n",
    "# 3 2 3 更改Parent，Parent的x指向了新的内存地址"
   ]
  },
  {
   "cell_type": "code",
   "execution_count": null,
   "metadata": {},
   "outputs": [],
   "source": [
    "# EG.1 编写程序, 在元类中控制自定义的类无需init方法.\n",
    "class Mymeta(type):\n",
    "    def __new__(cls,class_name,class_bases,class_dic):\n",
    "        update_dic = {}\n",
    "        for i in class_dic:\n",
    "            if not callable(class_dic[i]) and not i.startswith('__'):\n",
    "                update_dic[i.upper()]=class_dic[i]\n",
    "            else:\n",
    "                update_dic[i]=class_dic[i]\n",
    "        return type.__new__(cls,class_name,class_bases,update_dic)\n",
    " \n",
    "    def __call__(self, *args, **kwargs):\n",
    "        obj=object.__new__(self)\n",
    "        if args:\n",
    "            raise TypeError('must be keyword argument')\n",
    "        for i in kwargs:\n",
    "            obj.__dict__[i]=kwargs[i]\n",
    "        return obj\n",
    " \n",
    "class Chinese(metaclass=Mymeta):\n",
    "    country='china'\n",
    "    tag='legend of the dragon'\n",
    " \n",
    "    def talk(self):\n",
    "        print('%s is talking'%self.name)\n",
    " \n",
    "# print(Chinese.__dict__)\n",
    "# ch=Chinese(name='alice',age=18)\n",
    "# ch.talk()\n",
    "# print(ch.__dict__)"
   ]
  }
 ],
 "metadata": {
  "kernelspec": {
   "display_name": "Python 3",
   "language": "python",
   "name": "python3"
  },
  "language_info": {
   "codemirror_mode": {
    "name": "ipython",
    "version": 3
   },
   "file_extension": ".py",
   "mimetype": "text/x-python",
   "name": "python",
   "nbconvert_exporter": "python",
   "pygments_lexer": "ipython3",
   "version": "3.8.5"
  }
 },
 "nbformat": 4,
 "nbformat_minor": 4
}
