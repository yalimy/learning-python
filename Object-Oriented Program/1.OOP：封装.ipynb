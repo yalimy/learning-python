{
 "cells": [
  {
   "cell_type": "code",
   "execution_count": null,
   "metadata": {},
   "outputs": [],
   "source": [
    "# _*_ 封装的用途 _*_ #\n",
    "'''\n",
    "注意问题：\n",
    "1. __init__() 方法是在对象产生之后才会执行的，只用来为对象进行初始化操作！\n",
    "\n",
    "2.类的两种属性：数据属性和函数属性\n",
    "    数据属性是所有对象共享的，id都一样\n",
    "    函数属性是绑定给对象用的，以对象为准\n",
    "    object.name 的查询顺序：object.__name__ -> class.__name__ -> parent class -> NameError\n",
    "\n",
    "3.object.func == class.func(object)\n",
    "    即：绑定到对象的方法的特殊之处在于，绑定给谁就由谁来调用，\n",
    "    谁来调用，就会将‘谁’本身当做第一个参数传给方法，即自动传值（方法__init__也是一样的道理）\n",
    "'''"
   ]
  },
  {
   "cell_type": "code",
   "execution_count": 19,
   "metadata": {},
   "outputs": [
    {
     "name": "stdout",
     "output_type": "stream",
     "text": [
      "100\n",
      "10\n",
      "From Class A\n",
      "From Class A\n",
      "{'_A__X': 10, '__Y': 1}\n",
      "10\n",
      "From Class A\n",
      "From Class B\n"
     ]
    }
   ],
   "source": [
    "'''\n",
    "EG1.属性隐藏（私有）：并没有真正意义上限值外部的直接访问，只不过以一种“更加显示出类的私有属性的方式”作为表现形式\n",
    "'''\n",
    "# 类属性可以直接引用，类方法需要先实例化 之后才能引用\n",
    "class A:\n",
    "    __N = 100 # -> _A__N\n",
    "    def __init__(self):\n",
    "        self.__X = 10 # -> _A__X\n",
    "    \n",
    "    def __foo(self): # -> _A__foo\n",
    "        print(\"From Class A\")\n",
    "    \n",
    "    def bar(self):\n",
    "        return self.__foo() # 只有在类内部才可以通过 __foo 的形式访问到\n",
    "\n",
    "\n",
    "# 1.私有化的属性已经自动被转化，所以在外部是无法通过A().[__N, __X, __foo]访问的\n",
    "print(A._A__N)  # == A.__dict__['_A__N']\n",
    "print(A()._A__X)# == A.__dict__['_A__X']\n",
    "A()._A__foo()\n",
    "A().bar()\n",
    "\n",
    "# 2.转换只在类定义时发生一次，类实例化之后的赋值操作，不会发生转换\n",
    "a = A()\n",
    "a.__Y = 1\n",
    "print(a.__dict__)\n",
    "\n",
    "# 3.继承时，父类如果不想让子类覆盖自己的方法，可以将方法定义为私有的\n",
    "class B(A):\n",
    "    __N = 10\n",
    "    def __foo(self):\n",
    "        print('From Class B')\n",
    "        \n",
    "b = B()\n",
    "print(B._B__N)\n",
    "B().bar() # B 继承 A.bar(),但是A.bar调用私有方法 self.__foo()，以自己类(A)为准，即_A__foo\n",
    "B()._B__foo() # 对于同名方法，子类是可以覆盖父类的，不管是不是私有方法"
   ]
  },
  {
   "cell_type": "code",
   "execution_count": 23,
   "metadata": {},
   "outputs": [
    {
     "name": "stdout",
     "output_type": "stream",
     "text": [
      "Name: Alex, age: 19\n"
     ]
    }
   ],
   "source": [
    "'''\n",
    "EG2.封装数据：对外提供数据的操作接口，并在接口附加对该数据操作的限值，以完成对数据属性操作的严格控制\n",
    "'''\n",
    "class Teacher():\n",
    "    def __init__(self, name, age):\n",
    "        self.set_info(name, age)\n",
    "        \n",
    "    def tell_info(self):\n",
    "        print('Name: %s, age: %d' % (self.__name, self.__age))\n",
    "        \n",
    "    def set_info(self, name, age):\n",
    "        if not isinstance(name, str):\n",
    "            raise TypeError(\"Name must be str\")\n",
    "        if not isinstance(age, int):\n",
    "            raise TypeError(\"Age must be int\")\n",
    "        self.__name = name\n",
    "        self.__age = age\n",
    "    \n",
    "t = Teacher('Alex', 19)\n",
    "t.tell_info()\n",
    "# t = Teacher(19,'Alex')\n",
    "# t.tell_info()"
   ]
  },
  {
   "cell_type": "code",
   "execution_count": null,
   "metadata": {},
   "outputs": [],
   "source": [
    "'''\n",
    "EG3.封装方法：隔离复杂度\n",
    "'''\n",
    "class ATM:\n",
    "    def __card(self):\n",
    "        print('插卡')\n",
    "    def __auth(self):\n",
    "        print('用户认证')\n",
    "    def __input(self):\n",
    "        print('输入取款金额')\n",
    "    def __print_bill(self):\n",
    "        print('打印账单')\n",
    "    def __take_money(self):\n",
    "        print('取款')\n",
    " \n",
    "    def withdraw(self):\n",
    "        self.__card()\n",
    "        self.__auth()\n",
    "        self.__input()\n",
    "        self.__print_bill()\n",
    "        self.__take_money()\n",
    " \n",
    "a=ATM()\n",
    "a.withdraw()"
   ]
  },
  {
   "cell_type": "code",
   "execution_count": null,
   "metadata": {},
   "outputs": [],
   "source": [
    "'''\n",
    "@property, 将一个带有返回值的方法 object.method() -》 对象的固有属性 object.method\n",
    "\n",
    "属性，只能被调用，不能被赋值\n",
    "'''\n",
    "class Foo:\n",
    "    def __init__(self,val):\n",
    "        self.__NAME=val #将所有的数据属性都隐藏起来\n",
    " \n",
    "    @property\n",
    "    def name(self):\n",
    "        return self.__NAME #obj.name访问的是self.__NAME(这也是真实值的存放位置)\n",
    " \n",
    "    @name.setter\n",
    "    def name(self,value):\n",
    "        self.__NAME=value #通过类型检查后,将值value存放到真实的位置self.__NAME\n",
    " \n",
    "    @name.deleter\n",
    "    def name(self):\n",
    "        raise TypeError('Can not delete')\n",
    " \n",
    "f=Foo('egon')\n",
    "print(f.name)\n",
    "f.name=10 #抛出异常'TypeError: 10 must be str'\n",
    "del f.name #抛出异常'TypeError: Can not delete'\n",
    "\n",
    "'''\n",
    "对比：\n",
    "class Foo:\n",
    "    def __init__(self,val):\n",
    "        self.__NAME=val #将所有的数据属性都隐藏起来\n",
    " \n",
    "    def getname(self): pass\n",
    " \n",
    "    def setname(self,value): pass\n",
    "\n",
    "    def delname(self): pass\n",
    " \n",
    "    name=property(getname,setname,delname) #不如装饰器的方式清晰\n",
    "'''"
   ]
  },
  {
   "cell_type": "code",
   "execution_count": null,
   "metadata": {},
   "outputs": [],
   "source": [
    "'''\n",
    "python 为类内置的特殊属性有：\n",
    "\n",
    "    类名.__name__# 类的名字(字符串)\n",
    " \n",
    "    类名.__doc__# 类的文档字符串\n",
    "\n",
    "    类名.__base__# 类的第一个父类(在讲继承时会讲)\n",
    "\n",
    "    类名.__bases__# 类所有父类构成的元组(在讲继承时会讲)\n",
    "\n",
    "    类名.__dict__# 类的字典属性 类名.__module__# 类定义所在的模块\n",
    "\n",
    "    类名.__class__# 实例对应的类(仅新式类中)\n",
    "'''"
   ]
  }
 ],
 "metadata": {
  "kernelspec": {
   "display_name": "Python 3",
   "language": "python",
   "name": "python3"
  },
  "language_info": {
   "codemirror_mode": {
    "name": "ipython",
    "version": 3
   },
   "file_extension": ".py",
   "mimetype": "text/x-python",
   "name": "python",
   "nbconvert_exporter": "python",
   "pygments_lexer": "ipython3",
   "version": "3.8.5"
  }
 },
 "nbformat": 4,
 "nbformat_minor": 4
}
