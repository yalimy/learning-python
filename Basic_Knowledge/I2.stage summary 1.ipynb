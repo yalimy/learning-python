{
 "cells": [
  {
   "cell_type": "code",
   "execution_count": null,
   "metadata": {},
   "outputs": [],
   "source": [
    "# _*_ 文件处理 _*_ #\n",
    "'''\n",
    "一、文件编码\n",
    "任何内存中显示的字符，在disk上都是以01二进制字节存储：\n",
    "    以不同的编码方式，解码同一段字节表，就会显示不同的字符（乱码）\n",
    "    于是，在硬盘存储时使用那种编码，读到内存时就要使用同样的编码\n",
    "\n",
    "1. python2 默认字符编码是ASCII，默认的文件编码也是ASCII；\n",
    "   Python3 默认字符编码是unicode，默认的文件编码也是Unicode\n",
    "   \n",
    "2. 编码debug顺序： OS语言，文件存储编码，Python解释器编码，Terminal显示编码\n",
    "\n",
    "3. 硬盘的存储文件编码各种各样，只要读到内存中，再转换为所有系统都支持的Unicode，就可以屏蔽底层存储\n",
    "\n",
    "4. python2 bytes 与 python3 bytes的区别：\n",
    "    python2 将 str 处理为原生的 bytes 类型，而非unicode，即 str = bytes\n",
    "    python3 将 str 处理为Unicode，str 就是Unicode字符串，而 bytes 就是单纯的二进制\n",
    "    \n",
    "    \n",
    "二、文件处理 open(file_name, mode='', encoding='utf-8')\n",
    "1. r/ rb 的区别：r + encoding 会解码bytes，然后转成unicode字符； r 读取原生 bytes 串\n",
    "\n",
    "2. w/ wb\n",
    "\n",
    "3. a/ ab 只能追加\n",
    "\n",
    "'''\n",
    "# _*_ eg1. 替换文件中的某些内容 _*_ #\n",
    "import os\n",
    "\n",
    "def rep_char(filename, old_str, new_str):\n",
    "    fo = open(filename, 'r')\n",
    "    fn = open('%s_new' % filename, 'w+')\n",
    "    for line in fo.readlines():\n",
    "        line_new = line.replace(old_str, new_str)\n",
    "        fn.write(line_new)\n",
    "    fo.close()\n",
    "    fn.close()\n",
    "\n",
    "rep_char('pass.txt', 'user', 'account')\n",
    "\n",
    "os.replace(file_new, file_old)\n",
    "\n",
    "# _*_ eg2. 字符编码转换 _*_ #\n",
    "n = '路飞学诚'\n",
    "print(n.encode('utf-8'), n.encode('utf-8').decode('utf-8')) # utf-8 编码、解码\n",
    "print(n.encode('gbk'), n.encode('gbk').decode('gbk'))   # gbk 编码、解码\n",
    "print(n.encode('utf-8').decode('utf-8').encode('gbk'))\n",
    "print(n.encode('utf-8').decode('utf-8').encode('gbk').decode('gbk'))\n"
   ]
  },
  {
   "cell_type": "code",
   "execution_count": 20,
   "metadata": {},
   "outputs": [
    {
     "name": "stdout",
     "output_type": "stream",
     "text": [
      "请输入要发的牌数：6\n",
      "[('方块', '2'), ('梅花', '10'), ('黑桃', '5'), ('黑桃', '7'), ('方块', 'J'), ('黑桃', 'J')]\n"
     ]
    }
   ],
   "source": [
    "# _*_ 函数编程 _*_ #\n",
    "'''\n",
    "一、闭包：\n",
    "    关于闭包，即函数定义和函数表达式位于另一个函数的函数体内（嵌套函数）。\n",
    "而且这些内部函数可以访问他们所在的外部函数中声明的所有局部变量，参数。\n",
    "当其中一个这样的内部函数在包含他们的外部函数之外被调用时候，就形成了闭包。\n",
    "也就是说，内部函数会在外部函数返回后被执行。而当这个内部函数执行的时候，\n",
    "它仍然必需访问其外部函数的局部变量，参数以及其他内部函数，这些局部变量，\n",
    "参数声明（最初时）的值是外部函数返回时候的值，但也会受到内部函数的影响。\n",
    "    闭包的意义：返回的函数对象，不仅仅是一个函数对象，在该函数外还包裹了一层作用域，\n",
    "这使得，该函数无论在何处调用，优先使用自己外层包裹的作用域\n",
    "\n",
    "简单的说，闭包就是一个内部函数+外部环境 \n",
    "'''\n",
    "# eg.1 随机发牌\n",
    "\n",
    "import random\n",
    "num = ['A', '2', '3', '4', '5', '6', '7', '8', '9', '10', 'J', 'Q', 'K']\n",
    "color = ['黑桃', '方块', '梅花', '红桃' ]\n",
    "\n",
    "m = input(\"请输入要发的牌数：\")\n",
    "m = int(m)\n",
    "pp = []\n",
    "while m > 0:\n",
    "    n1 = random.choice(num)\n",
    "    c1 = random.choice(color)\n",
    "    if (c1,n1) not in pp:\n",
    "        pp.append((c1,n1))\n",
    "        m -= 1\n",
    "    else:\n",
    "        continue\n",
    "\n",
    "print(pp)"
   ]
  },
  {
   "cell_type": "code",
   "execution_count": null,
   "metadata": {},
   "outputs": [],
   "source": [
    "# eg2.装饰器，为多个函数加上认证的功能，登录成功一次，后续的函数都无需再输入用户名和密码\n",
    " \n",
    " \n",
    "def login(func):\n",
    "    def wrapper(*args,**kwargs):\n",
    "        username = input(\"account:\").strip()\n",
    "        password = input(\"password:\").strip()\n",
    "        with open('userinfo.txt','r',encoding='utf-8') as f:\n",
    "            userinfo = f.read().strip(',')\n",
    "            userinfo = eval(userinfo)\n",
    "            print(userinfo)\n",
    "            if username in userinfo['name'] and password in userinfo['password']:\n",
    "                print(\"success\")\n",
    "            else:\n",
    "                print(\"pass\")\n",
    " \n",
    "    return wrapper\n",
    " \n",
    "@login\n",
    "def name():\n",
    "    print(\"hello\")\n",
    " \n",
    "name()"
   ]
  },
  {
   "cell_type": "code",
   "execution_count": null,
   "metadata": {},
   "outputs": [],
   "source": [
    "# _*_ 生成器与迭代器 _*_ #\n",
    "'''\n",
    "1.生成器和迭代器都可以被 for 循环遍历（next调用的），即必须有 _next_()\n",
    "2.迭代器还必须是可迭代的，即有 _iter_(), 返回 self\n",
    "'''"
   ]
  },
  {
   "cell_type": "code",
   "execution_count": 22,
   "metadata": {},
   "outputs": [
    {
     "name": "stdout",
     "output_type": "stream",
     "text": [
      "['alex_sb', 'wupeiqi_sb', 'yuanhao_sb', 'nezha_sb']\n",
      "['alex_sb', 'wupeiqi_sb', 'yuanhao_sb', 'nezha_sb']\n"
     ]
    }
   ],
   "source": [
    "# eg.1 map\n",
    "name=['alex','wupeiqi','yuanhao','nezha']\n",
    "print([i + str('_sb') for i in name])\n",
    "print(list(map(lambda x: x+str('_sb'),name)))"
   ]
  },
  {
   "cell_type": "code",
   "execution_count": 27,
   "metadata": {},
   "outputs": [
    {
     "name": "stdout",
     "output_type": "stream",
     "text": [
      "[{'name': 'AAPL', 'shares': 50, 'price': 543.22, 'total': 27161.0}, {'name': 'ACME', 'shares': 75, 'price': 115.65, 'total': 8673.75}]\n",
      "[{'name': 'IBM', 'shares': 100, 'price': 91.1, 'total': 9110.0}, {'name': 'AAPL', 'shares': 50, 'price': 543.22, 'total': 27161.0}, {'name': 'FB', 'shares': 200, 'price': 21.09, 'total': 4218.0}, {'name': 'HPQ', 'shares': 35, 'price': 31.75, 'total': 1111.25}, {'name': 'YHOO', 'shares': 45, 'price': 16.35, 'total': 735.75}, {'name': 'ACME', 'shares': 75, 'price': 115.65, 'total': 8673.75}]\n"
     ]
    }
   ],
   "source": [
    "# eg2 filter/map\n",
    "portfolio = [\n",
    "    {'name': 'IBM', 'shares': 100, 'price': 91.1},\n",
    "    {'name': 'AAPL', 'shares': 50, 'price': 543.22},\n",
    "    {'name': 'FB', 'shares': 200, 'price': 21.09},\n",
    "    {'name': 'HPQ', 'shares': 35, 'price': 31.75},\n",
    "    {'name': 'YHOO', 'shares': 45, 'price': 16.35},\n",
    "    {'name': 'ACME', 'shares': 75, 'price': 115.65}\n",
    "]\n",
    "tt = []\n",
    "for ss in portfolio:\n",
    "    if ss['price'] > 100:\n",
    "        tt.append(ss)\n",
    "    total = round(ss['shares'] * ss['price'],2)\n",
    "    ss['total'] = total\n",
    "    \n",
    "print(tt)\n",
    "print(portfolio)\n",
    "'''\n",
    "map(lambda y:y['shares']*y['price'],portfolio)\n",
    "filter(lambda d:d['price']>=100,portfolio)\n",
    "'''"
   ]
  },
  {
   "cell_type": "code",
   "execution_count": 29,
   "metadata": {},
   "outputs": [
    {
     "name": "stdout",
     "output_type": "stream",
     "text": [
      "20\n",
      "20\n"
     ]
    }
   ],
   "source": [
    "# eg3 如果函数参数是对不可变对象（比如数字、字符或者元组）的引用，就不能直接修改原始对象，相当于通过“传值’来传递对象\n",
    "# 此时如果想改变这些变量的值，可以将这些变量申明为全局变量。\n",
    "num = 20\n",
    " \n",
    "def show_num(x=num):\n",
    "    print(x)\n",
    " \n",
    "show_num() \n",
    "num = 30\n",
    "show_num()"
   ]
  },
  {
   "cell_type": "code",
   "execution_count": 31,
   "metadata": {},
   "outputs": [
    {
     "data": {
      "text/plain": [
       "['smith', 'alex', 'alen', 'pizza', 'egon']"
      ]
     },
     "execution_count": 31,
     "metadata": {},
     "output_type": "execute_result"
    }
   ],
   "source": [
    "li = ['alex', 'egon', 'smith', 'pizza', 'alen']\n",
    "sorted(li, key=lambda x: x[1], reverse=True)"
   ]
  }
 ],
 "metadata": {
  "kernelspec": {
   "display_name": "Python 3",
   "language": "python",
   "name": "python3"
  },
  "language_info": {
   "codemirror_mode": {
    "name": "ipython",
    "version": 3
   },
   "file_extension": ".py",
   "mimetype": "text/x-python",
   "name": "python",
   "nbconvert_exporter": "python",
   "pygments_lexer": "ipython3",
   "version": "3.8.5"
  }
 },
 "nbformat": 4,
 "nbformat_minor": 4
}
