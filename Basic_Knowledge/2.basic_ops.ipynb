{
 "cells": [
  {
   "cell_type": "code",
   "execution_count": 8,
   "metadata": {},
   "outputs": [
    {
     "name": "stdout",
     "output_type": "stream",
     "text": [
      "True False\n",
      "2752157340736 2752157343680 2752160793792\n",
      "2752157342208 2752157342208 2752157342592\n",
      "[1, 2, ['hey!', 2]] [1, 'x', ['hey!', 2]] [1, 'y', [1, 2]]\n"
     ]
    }
   ],
   "source": [
    "## _*_ 深浅拷贝 与 查询内存地址 id _*_ ##\n",
    "'''\n",
    "1.寻常意义的复制就是深复制，即将被复制对象完全再复制一遍作为独立的新个体单独存在（内存地址不同）。\n",
    "    所以改变原有被复制对象不会对已经复制出来的新对象产生影响。\n",
    "2.浅复制并不会产生一个独立的对象单独存在，他只是将原有的数据块打上一个新标签（内存地址相同），\n",
    "    所以当其中一个标签被改变的时候，数据块就会发生变化，另一个标签也会随之改变。\n",
    "\n",
    "3.对于简单的 object，用 shallow copy 和 deep copy 没区别\n",
    "    复杂的 object， 如 list 中套着 list 的情况，shallow copy 中的 子list，并未从原 object 真的「独立」出来。\n",
    "    也就是说，如果你改变原 object 的子 list 中的一个元素，你的 copy 就会跟着一起变。\n",
    "'''\n",
    "\n",
    "import copy\n",
    "ori = [1, 2, [1,2]]\n",
    "cp1 = copy.copy(ori)\n",
    "cp2 = copy.deepcopy(ori)\n",
    "# #cp1 和 cp2 看上去相同，但已不再是同一个object\n",
    "print(cp1==cp2, cp1 is cp2)\n",
    "print(id(ori), id(cp1), id(cp2))\n",
    "print(id(ori[2]), id(cp1[2]), id(cp2[2]))\n",
    "\n",
    "cp1[1] = 'x'\n",
    "cp2[1] = 'y'\n",
    "cp1[2][0] = 'hey!'\n",
    "print(ori, cp1, cp2)\n",
    "\n",
    "'''\n",
    ">> a ,b = [1, 2, 3], a\n",
    ">>> a = [4, 5, 6] //赋新的值给 a\n",
    ">>> a , b\n",
    "[4, 5, 6]\n",
    "[1, 2, 3]\n",
    "# a 的值改变后，b 并没有随着 a 变\n",
    "\n",
    ">>> a[0], a[1], a[2] = 4, 5, 6 //改变原来 list 中的元素\n",
    ">>> a , b\n",
    "[4, 5, 6]\n",
    "[4, 5, 6]\n",
    "# a 的值改变后，b 随着 a 变了\n",
    "\n",
    "==>>\n",
    "首次把 [1, 2, 3] 看成一个物品。a = [1, 2, 3] 就相当于给这个物品上贴上 a 这个标签。而 b = a 就是给这个物品又贴上了一个 b 的标签。\n",
    "第一种情况：\n",
    "    a = [4, 5, 6] 就相当于把 a 标签从 [1 ,2, 3] 上撕下来，贴到了 [4, 5, 6] 上。\n",
    "    在这个过程中，[1, 2, 3] 这个物品并没有消失。 b 自始至终都好好的贴在 [1, 2, 3] 上，既然这个 reference 也没有改变过。 b 的值自然不变。\n",
    "\n",
    "第二种情况：\n",
    "    a[0], a[1], a[2] = 4, 5, 6 则是直接改变了 [1, 2, 3] 这个物品本身。把它内部的每一部分都重新改装了一下。内部改装完毕后，[1, 2, 3] 本身变成了 [4, 5, 6]。\n",
    "    而在此过程当中，a 和 b 都没有动，他们还贴在那个物品上。因此自然 a b 的值都变成了 [4, 5, 6]。\n",
    "\n",
    "结论：\n",
    "1.copy对于一个复杂对象的子对象并不会完全复制，就比如序列里的嵌套序列，字典里的嵌套序列等都是复杂对象的子对象。\n",
    "对于子对象，python会把它当作一个公共镜像存储起来，所有对他的复制都被当成一个引用，当其中一个引用将镜像改变了之后另一个引用使用镜像的时候镜像已经被改变了。\n",
    "\n",
    "2.deepcopy会将复杂对象的每一层复制一个单独的个体出来。\n",
    "'''"
   ]
  },
  {
   "cell_type": "code",
   "execution_count": null,
   "metadata": {},
   "outputs": [],
   "source": [
    "# 有条件限制的 控制语句 #\n",
    "eg. 1\n",
    "flag = false\n",
    "while count < N:\n",
    "    if user == user and pass = pass:\n",
    "        { content }\n",
    "        flag = true\n",
    "        break/pass/continue\n",
    "    else:\n",
    "        { content }\n",
    "        break/pass/continue\n",
    "    count += 1\n",
    "\n",
    "eg. 2\n",
    "num = 100\n",
    "while num >= 50:\n",
    "    print(num)\n",
    "    num -= 1\n",
    "    if num == 49:\n",
    "        num = 0\n",
    "        while num < 50:\n",
    "            print(num)\n",
    "            num += 1\n",
    "        break\n",
    "        \n"
   ]
  },
  {
   "cell_type": "code",
   "execution_count": 2,
   "metadata": {},
   "outputs": [
    {
     "name": "stdout",
     "output_type": "stream",
     "text": [
      "1 手机\n",
      "2 电脑\n",
      "3 鼠标垫\n",
      "4 游艇\n"
     ]
    }
   ],
   "source": [
    "li = [\"手机\", \"电脑\", '鼠标垫', '游艇']\n",
    "for i,j in enumerate(li,1): #自定义下标从1开始，key=i, value=j\n",
    "    print(i,j)"
   ]
  },
  {
   "cell_type": "code",
   "execution_count": 8,
   "metadata": {},
   "outputs": [
    {
     "name": "stdout",
     "output_type": "stream",
     "text": [
      "[0, 2, 4, 6, 8, 10]\n",
      "[10, 10, 10, 10, 10, 10]\n",
      "[6, 6, 6, 6]\n",
      "[0, 2, 4, 6, 8, 10]\n"
     ]
    }
   ],
   "source": [
    "# 匿名函数 lambda\n",
    "# map(f,iter) : 将函数f 映射到 iter(可枚举) 的每一个元素\n",
    "\n",
    "# case 1\n",
    "fs = map(lambda i:(lambda j: i*j),range(6))\n",
    "print([f(2) for f in fs])\n",
    "\n",
    "# case 2\n",
    "fs = [lambda j: i*j for i in range(6)]\n",
    "print([f(2) for f in fs])\n",
    "\n",
    "# case 3\n",
    "fs = []\n",
    "for i in range(6):\n",
    "    fs.append(lambda j: i*j)\n",
    "    if i == 3:\n",
    "        break\n",
    "print([f(2) for f in fs])\n",
    "\n",
    "# case 4\n",
    "fs = [(lambda i:lambda j:i*j)(i) for i in range(6)]\n",
    "print([f(2) for f in fs])"
   ]
  },
  {
   "cell_type": "code",
   "execution_count": 10,
   "metadata": {},
   "outputs": [
    {
     "ename": "ImportError",
     "evalue": "cannot import name 'apply' from 'pandas' (C:\\Users\\Administrator\\anaconda3\\lib\\site-packages\\pandas\\__init__.py)",
     "output_type": "error",
     "traceback": [
      "\u001b[1;31m---------------------------------------------------------------------------\u001b[0m",
      "\u001b[1;31mImportError\u001b[0m                               Traceback (most recent call last)",
      "\u001b[1;32m<ipython-input-10-396da0a735da>\u001b[0m in \u001b[0;36m<module>\u001b[1;34m\u001b[0m\n\u001b[0;32m      1\u001b[0m \u001b[1;31m# apply(func, *args, **kwargs)\u001b[0m\u001b[1;33m\u001b[0m\u001b[1;33m\u001b[0m\u001b[1;33m\u001b[0m\u001b[0m\n\u001b[1;32m----> 2\u001b[1;33m \u001b[1;32mfrom\u001b[0m \u001b[0mpandas\u001b[0m \u001b[1;32mimport\u001b[0m \u001b[0mapply\u001b[0m\u001b[1;33m\u001b[0m\u001b[1;33m\u001b[0m\u001b[0m\n\u001b[0m\u001b[0;32m      3\u001b[0m \u001b[1;32mdef\u001b[0m \u001b[0mfunc\u001b[0m\u001b[1;33m(\u001b[0m\u001b[0ma\u001b[0m\u001b[1;33m,\u001b[0m\u001b[0mb\u001b[0m\u001b[1;33m)\u001b[0m\u001b[1;33m:\u001b[0m\u001b[1;33m\u001b[0m\u001b[1;33m\u001b[0m\u001b[0m\n\u001b[0;32m      4\u001b[0m     \u001b[0mprint\u001b[0m\u001b[1;33m(\u001b[0m\u001b[0ma\u001b[0m\u001b[1;33m,\u001b[0m\u001b[0mb\u001b[0m\u001b[1;33m)\u001b[0m\u001b[1;33m\u001b[0m\u001b[1;33m\u001b[0m\u001b[0m\n\u001b[0;32m      5\u001b[0m \u001b[1;33m\u001b[0m\u001b[0m\n",
      "\u001b[1;31mImportError\u001b[0m: cannot import name 'apply' from 'pandas' (C:\\Users\\Administrator\\anaconda3\\lib\\site-packages\\pandas\\__init__.py)"
     ]
    }
   ],
   "source": [
    "# apply(func, *args, **kwargs)\n",
    "def func(a,b):\n",
    "    print(a,b)\n",
    "    \n",
    "apply(func,('cai','quan'))\n",
    "apply(func,('cai',),{'b':'caiquan'})\n",
    "apply(func,(),{'a':'caiquan','b':'Tom'})"
   ]
  },
  {
   "cell_type": "code",
   "execution_count": null,
   "metadata": {},
   "outputs": [],
   "source": [
    "# 三元运算符\n",
    "x if condition is true else y"
   ]
  }
 ],
 "metadata": {
  "kernelspec": {
   "display_name": "Python 3",
   "language": "python",
   "name": "python3"
  },
  "language_info": {
   "codemirror_mode": {
    "name": "ipython",
    "version": 3
   },
   "file_extension": ".py",
   "mimetype": "text/x-python",
   "name": "python",
   "nbconvert_exporter": "python",
   "pygments_lexer": "ipython3",
   "version": "3.8.5"
  }
 },
 "nbformat": 4,
 "nbformat_minor": 4
}
