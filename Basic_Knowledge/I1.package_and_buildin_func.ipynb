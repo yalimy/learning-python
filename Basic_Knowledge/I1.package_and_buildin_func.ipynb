{
 "cells": [
  {
   "cell_type": "code",
   "execution_count": null,
   "metadata": {},
   "outputs": [],
   "source": [
    "'''\n",
    "关于模块：\n",
    "\n",
    "1. 一个包目录要想成为可引入的模块，至少要有一个空的 __init__.py 文件\n",
    "\n",
    "2. 自己的模块在当前路径下的程序里可以导入，为何换个目录就失败？\n",
    "    这与导入的路径有关，sys.path 是Python检查模块的路径\n",
    "    要想让你的模块随时可以被引入，需要将模块放在其中的一个路径下！\n",
    "    \n",
    "'''"
   ]
  },
  {
   "cell_type": "code",
   "execution_count": null,
   "metadata": {},
   "outputs": [],
   "source": [
    "'''\n",
    "关于包：包就是文件夹，但该文件夹下必须存在 __init__.py 文件, 该文件的内容可以为空\n",
    "\n",
    "假如目录结构如下：\n",
    "├── __init__.py\n",
    "├── crm\n",
    "│   ├── __init__.py\n",
    "│   ├── admin.py\n",
    "│   ├── apps.py\n",
    "│   ├── models.py\n",
    "│   ├── tests.py\n",
    "│   ├── views.py \n",
    "├── manage.py  \n",
    "└── proj\n",
    "    ├── __init__.py\n",
    "    ├── settings.py\n",
    "    ├── urls.py\n",
    "    └── wsgi.py\n",
    "    \n",
    "1.如何实现在 crm/views.py 中导入 proj/settings.py 模块？\n",
    "\n",
    "原因： views 和 settings 按照树关系，不是亲兄弟，而是表兄弟，不能直接识别彼此\n",
    "\n",
    "方案： 在 crm/views.py 中 sys.path 添加父级路径\n",
    "    sys.path.append(os.path.dirname(os.path.dirname(os.getcwd())))\n",
    "    from proj import settings\n",
    "    \n",
    "2.接1，还是在 crm/views.py 目录，此时在 proj/settings 中添加 import urls,依然会有问题\n",
    "    \n",
    "原因：当前目录是 crm/views.py，执行“from proj import settings”时，\n",
    "      settings中的“import urls”，依然以当前目录为准\n",
    "      \n",
    "方案：from proj import urls [proj 已经在 sys.path tree]\n",
    "\n",
    "'''"
   ]
  },
  {
   "cell_type": "code",
   "execution_count": 13,
   "metadata": {},
   "outputs": [
    {
     "name": "stdout",
     "output_type": "stream",
     "text": [
      "C:\\Users\\jichao1.wang\\my-python\\basic_python\n",
      "C:\\Users\\jichao1.wang\n",
      "{'__name__': '__main__', '__doc__': 'Automatically created module for IPython interactive environment', '__package__': None, '__loader__': None, '__spec__': None, '__builtin__': <module 'builtins' (built-in)>, '__builtins__': <module 'builtins' (built-in)>, '_ih': ['', 'import sys\\nimport os\\nprint(os.path.dirname(__file__))\\nprint(os.path.dirname(os.path.dirname(__file__)))', \"import sys\\nimport os\\n__file__ = '.'\\nprint(os.path.dirname(__file__))\\nprint(os.path.dirname(os.path.dirname(__file__)))\", \"import sys\\nimport os\\n__file__ = '.'\\nprint(os.path.dirname(__file__))\\nprint(os.path.dirname(os.path.dirname(__file__)))\", \"import sys\\nimport os\\n__file__ = '.'\\nprint(os.path.dirname(__file__))\\nprint(os.path.dirname(os.path.dirname(__file__)))\", 'import sys\\nimport os\\nprint(os.getcwd())', 'import sys\\nimport os\\npt = os.getcwd()\\nprint(os.path.dirname(os.path.dirname(pt)))', 'import sys\\nimport os\\npt = os.getcwd()\\nprint(pt)\\nprint(os.path.dirname(os.path.dirname(pt)))', 'import sys\\nimport os\\npt = os.getcwd()\\nprint(pt)\\nprint(os.path.dirname(os.path.dirname(pt)))\\nmemoryview(pt)', 'import sys\\nimport os\\npt = os.getcwd()\\nprint(pt)\\nprint(os.path.dirname(os.path.dirname(pt)))\\nmemoryview(bytes(pt))', 'import sys\\nimport os\\npt = os.getcwd()\\nprint(pt)\\nprint(os.path.dirname(os.path.dirname(pt)))', 'import sys\\nimport os\\npt = os.getcwd()\\nprint(pt)\\nprint(os.path.dirname(os.path.dirname(pt)))\\nprint(var())', 'import sys\\nimport os\\npt = os.getcwd()\\nprint(pt)\\nprint(os.path.dirname(os.path.dirname(pt)))\\nprint(globals())\\npritn(locals())', 'import sys\\nimport os\\npt = os.getcwd()\\nprint(pt)\\nprint(os.path.dirname(os.path.dirname(pt)))\\nprint(globals())\\nprint(locals())'], '_oh': {}, '_dh': ['C:\\\\Users\\\\jichao1.wang\\\\my-python\\\\basic_python'], 'In': ['', 'import sys\\nimport os\\nprint(os.path.dirname(__file__))\\nprint(os.path.dirname(os.path.dirname(__file__)))', \"import sys\\nimport os\\n__file__ = '.'\\nprint(os.path.dirname(__file__))\\nprint(os.path.dirname(os.path.dirname(__file__)))\", \"import sys\\nimport os\\n__file__ = '.'\\nprint(os.path.dirname(__file__))\\nprint(os.path.dirname(os.path.dirname(__file__)))\", \"import sys\\nimport os\\n__file__ = '.'\\nprint(os.path.dirname(__file__))\\nprint(os.path.dirname(os.path.dirname(__file__)))\", 'import sys\\nimport os\\nprint(os.getcwd())', 'import sys\\nimport os\\npt = os.getcwd()\\nprint(os.path.dirname(os.path.dirname(pt)))', 'import sys\\nimport os\\npt = os.getcwd()\\nprint(pt)\\nprint(os.path.dirname(os.path.dirname(pt)))', 'import sys\\nimport os\\npt = os.getcwd()\\nprint(pt)\\nprint(os.path.dirname(os.path.dirname(pt)))\\nmemoryview(pt)', 'import sys\\nimport os\\npt = os.getcwd()\\nprint(pt)\\nprint(os.path.dirname(os.path.dirname(pt)))\\nmemoryview(bytes(pt))', 'import sys\\nimport os\\npt = os.getcwd()\\nprint(pt)\\nprint(os.path.dirname(os.path.dirname(pt)))', 'import sys\\nimport os\\npt = os.getcwd()\\nprint(pt)\\nprint(os.path.dirname(os.path.dirname(pt)))\\nprint(var())', 'import sys\\nimport os\\npt = os.getcwd()\\nprint(pt)\\nprint(os.path.dirname(os.path.dirname(pt)))\\nprint(globals())\\npritn(locals())', 'import sys\\nimport os\\npt = os.getcwd()\\nprint(pt)\\nprint(os.path.dirname(os.path.dirname(pt)))\\nprint(globals())\\nprint(locals())'], 'Out': {}, 'get_ipython': <bound method InteractiveShell.get_ipython of <ipykernel.zmqshell.ZMQInteractiveShell object at 0x0000020041ECF970>>, 'exit': <IPython.core.autocall.ZMQExitAutocall object at 0x0000020041FA83D0>, 'quit': <IPython.core.autocall.ZMQExitAutocall object at 0x0000020041FA83D0>, '_': '', '__': '', '___': '', '_i': 'import sys\\nimport os\\npt = os.getcwd()\\nprint(pt)\\nprint(os.path.dirname(os.path.dirname(pt)))\\nprint(globals())\\npritn(locals())', '_ii': 'import sys\\nimport os\\npt = os.getcwd()\\nprint(pt)\\nprint(os.path.dirname(os.path.dirname(pt)))\\nprint(var())', '_iii': 'import sys\\nimport os\\npt = os.getcwd()\\nprint(pt)\\nprint(os.path.dirname(os.path.dirname(pt)))', '_i1': 'import sys\\nimport os\\nprint(os.path.dirname(__file__))\\nprint(os.path.dirname(os.path.dirname(__file__)))', 'sys': <module 'sys' (built-in)>, 'os': <module 'os' from 'C:\\\\Users\\\\jichao1.wang\\\\Anaconda3\\\\lib\\\\os.py'>, '_i2': \"import sys\\nimport os\\n__file__ = '.'\\nprint(os.path.dirname(__file__))\\nprint(os.path.dirname(os.path.dirname(__file__)))\", '__file__': '.', '_i3': \"import sys\\nimport os\\n__file__ = '.'\\nprint(os.path.dirname(__file__))\\nprint(os.path.dirname(os.path.dirname(__file__)))\", '_i4': \"import sys\\nimport os\\n__file__ = '.'\\nprint(os.path.dirname(__file__))\\nprint(os.path.dirname(os.path.dirname(__file__)))\", '_i5': 'import sys\\nimport os\\nprint(os.getcwd())', '_i6': 'import sys\\nimport os\\npt = os.getcwd()\\nprint(os.path.dirname(os.path.dirname(pt)))', 'pt': 'C:\\\\Users\\\\jichao1.wang\\\\my-python\\\\basic_python', '_i7': 'import sys\\nimport os\\npt = os.getcwd()\\nprint(pt)\\nprint(os.path.dirname(os.path.dirname(pt)))', '_i8': 'import sys\\nimport os\\npt = os.getcwd()\\nprint(pt)\\nprint(os.path.dirname(os.path.dirname(pt)))\\nmemoryview(pt)', '_i9': 'import sys\\nimport os\\npt = os.getcwd()\\nprint(pt)\\nprint(os.path.dirname(os.path.dirname(pt)))\\nmemoryview(bytes(pt))', '_i10': 'import sys\\nimport os\\npt = os.getcwd()\\nprint(pt)\\nprint(os.path.dirname(os.path.dirname(pt)))', '_i11': 'import sys\\nimport os\\npt = os.getcwd()\\nprint(pt)\\nprint(os.path.dirname(os.path.dirname(pt)))\\nprint(var())', '_i12': 'import sys\\nimport os\\npt = os.getcwd()\\nprint(pt)\\nprint(os.path.dirname(os.path.dirname(pt)))\\nprint(globals())\\npritn(locals())', '_i13': 'import sys\\nimport os\\npt = os.getcwd()\\nprint(pt)\\nprint(os.path.dirname(os.path.dirname(pt)))\\nprint(globals())\\nprint(locals())'}\n",
      "{'__name__': '__main__', '__doc__': 'Automatically created module for IPython interactive environment', '__package__': None, '__loader__': None, '__spec__': None, '__builtin__': <module 'builtins' (built-in)>, '__builtins__': <module 'builtins' (built-in)>, '_ih': ['', 'import sys\\nimport os\\nprint(os.path.dirname(__file__))\\nprint(os.path.dirname(os.path.dirname(__file__)))', \"import sys\\nimport os\\n__file__ = '.'\\nprint(os.path.dirname(__file__))\\nprint(os.path.dirname(os.path.dirname(__file__)))\", \"import sys\\nimport os\\n__file__ = '.'\\nprint(os.path.dirname(__file__))\\nprint(os.path.dirname(os.path.dirname(__file__)))\", \"import sys\\nimport os\\n__file__ = '.'\\nprint(os.path.dirname(__file__))\\nprint(os.path.dirname(os.path.dirname(__file__)))\", 'import sys\\nimport os\\nprint(os.getcwd())', 'import sys\\nimport os\\npt = os.getcwd()\\nprint(os.path.dirname(os.path.dirname(pt)))', 'import sys\\nimport os\\npt = os.getcwd()\\nprint(pt)\\nprint(os.path.dirname(os.path.dirname(pt)))', 'import sys\\nimport os\\npt = os.getcwd()\\nprint(pt)\\nprint(os.path.dirname(os.path.dirname(pt)))\\nmemoryview(pt)', 'import sys\\nimport os\\npt = os.getcwd()\\nprint(pt)\\nprint(os.path.dirname(os.path.dirname(pt)))\\nmemoryview(bytes(pt))', 'import sys\\nimport os\\npt = os.getcwd()\\nprint(pt)\\nprint(os.path.dirname(os.path.dirname(pt)))', 'import sys\\nimport os\\npt = os.getcwd()\\nprint(pt)\\nprint(os.path.dirname(os.path.dirname(pt)))\\nprint(var())', 'import sys\\nimport os\\npt = os.getcwd()\\nprint(pt)\\nprint(os.path.dirname(os.path.dirname(pt)))\\nprint(globals())\\npritn(locals())', 'import sys\\nimport os\\npt = os.getcwd()\\nprint(pt)\\nprint(os.path.dirname(os.path.dirname(pt)))\\nprint(globals())\\nprint(locals())'], '_oh': {}, '_dh': ['C:\\\\Users\\\\jichao1.wang\\\\my-python\\\\basic_python'], 'In': ['', 'import sys\\nimport os\\nprint(os.path.dirname(__file__))\\nprint(os.path.dirname(os.path.dirname(__file__)))', \"import sys\\nimport os\\n__file__ = '.'\\nprint(os.path.dirname(__file__))\\nprint(os.path.dirname(os.path.dirname(__file__)))\", \"import sys\\nimport os\\n__file__ = '.'\\nprint(os.path.dirname(__file__))\\nprint(os.path.dirname(os.path.dirname(__file__)))\", \"import sys\\nimport os\\n__file__ = '.'\\nprint(os.path.dirname(__file__))\\nprint(os.path.dirname(os.path.dirname(__file__)))\", 'import sys\\nimport os\\nprint(os.getcwd())', 'import sys\\nimport os\\npt = os.getcwd()\\nprint(os.path.dirname(os.path.dirname(pt)))', 'import sys\\nimport os\\npt = os.getcwd()\\nprint(pt)\\nprint(os.path.dirname(os.path.dirname(pt)))', 'import sys\\nimport os\\npt = os.getcwd()\\nprint(pt)\\nprint(os.path.dirname(os.path.dirname(pt)))\\nmemoryview(pt)', 'import sys\\nimport os\\npt = os.getcwd()\\nprint(pt)\\nprint(os.path.dirname(os.path.dirname(pt)))\\nmemoryview(bytes(pt))', 'import sys\\nimport os\\npt = os.getcwd()\\nprint(pt)\\nprint(os.path.dirname(os.path.dirname(pt)))', 'import sys\\nimport os\\npt = os.getcwd()\\nprint(pt)\\nprint(os.path.dirname(os.path.dirname(pt)))\\nprint(var())', 'import sys\\nimport os\\npt = os.getcwd()\\nprint(pt)\\nprint(os.path.dirname(os.path.dirname(pt)))\\nprint(globals())\\npritn(locals())', 'import sys\\nimport os\\npt = os.getcwd()\\nprint(pt)\\nprint(os.path.dirname(os.path.dirname(pt)))\\nprint(globals())\\nprint(locals())'], 'Out': {}, 'get_ipython': <bound method InteractiveShell.get_ipython of <ipykernel.zmqshell.ZMQInteractiveShell object at 0x0000020041ECF970>>, 'exit': <IPython.core.autocall.ZMQExitAutocall object at 0x0000020041FA83D0>, 'quit': <IPython.core.autocall.ZMQExitAutocall object at 0x0000020041FA83D0>, '_': '', '__': '', '___': '', '_i': 'import sys\\nimport os\\npt = os.getcwd()\\nprint(pt)\\nprint(os.path.dirname(os.path.dirname(pt)))\\nprint(globals())\\npritn(locals())', '_ii': 'import sys\\nimport os\\npt = os.getcwd()\\nprint(pt)\\nprint(os.path.dirname(os.path.dirname(pt)))\\nprint(var())', '_iii': 'import sys\\nimport os\\npt = os.getcwd()\\nprint(pt)\\nprint(os.path.dirname(os.path.dirname(pt)))', '_i1': 'import sys\\nimport os\\nprint(os.path.dirname(__file__))\\nprint(os.path.dirname(os.path.dirname(__file__)))', 'sys': <module 'sys' (built-in)>, 'os': <module 'os' from 'C:\\\\Users\\\\jichao1.wang\\\\Anaconda3\\\\lib\\\\os.py'>, '_i2': \"import sys\\nimport os\\n__file__ = '.'\\nprint(os.path.dirname(__file__))\\nprint(os.path.dirname(os.path.dirname(__file__)))\", '__file__': '.', '_i3': \"import sys\\nimport os\\n__file__ = '.'\\nprint(os.path.dirname(__file__))\\nprint(os.path.dirname(os.path.dirname(__file__)))\", '_i4': \"import sys\\nimport os\\n__file__ = '.'\\nprint(os.path.dirname(__file__))\\nprint(os.path.dirname(os.path.dirname(__file__)))\", '_i5': 'import sys\\nimport os\\nprint(os.getcwd())', '_i6': 'import sys\\nimport os\\npt = os.getcwd()\\nprint(os.path.dirname(os.path.dirname(pt)))', 'pt': 'C:\\\\Users\\\\jichao1.wang\\\\my-python\\\\basic_python', '_i7': 'import sys\\nimport os\\npt = os.getcwd()\\nprint(pt)\\nprint(os.path.dirname(os.path.dirname(pt)))', '_i8': 'import sys\\nimport os\\npt = os.getcwd()\\nprint(pt)\\nprint(os.path.dirname(os.path.dirname(pt)))\\nmemoryview(pt)', '_i9': 'import sys\\nimport os\\npt = os.getcwd()\\nprint(pt)\\nprint(os.path.dirname(os.path.dirname(pt)))\\nmemoryview(bytes(pt))', '_i10': 'import sys\\nimport os\\npt = os.getcwd()\\nprint(pt)\\nprint(os.path.dirname(os.path.dirname(pt)))', '_i11': 'import sys\\nimport os\\npt = os.getcwd()\\nprint(pt)\\nprint(os.path.dirname(os.path.dirname(pt)))\\nprint(var())', '_i12': 'import sys\\nimport os\\npt = os.getcwd()\\nprint(pt)\\nprint(os.path.dirname(os.path.dirname(pt)))\\nprint(globals())\\npritn(locals())', '_i13': 'import sys\\nimport os\\npt = os.getcwd()\\nprint(pt)\\nprint(os.path.dirname(os.path.dirname(pt)))\\nprint(globals())\\nprint(locals())'}\n"
     ]
    }
   ],
   "source": [
    "import sys\n",
    "import os\n",
    "pt = os.getcwd()\n",
    "print(pt)\n",
    "print(os.path.dirname(os.path.dirname(pt)))\n",
    "print(globals())\n",
    "print(locals())"
   ]
  },
  {
   "cell_type": "code",
   "execution_count": null,
   "metadata": {},
   "outputs": [],
   "source": [
    "'''\n",
    "相对导入：\n",
    "要求package所在的文件夹必须正确的被Python解释器视为package，而不是普通的文件夹！\n",
    "条件：\n",
    "    1. 文件夹必须有 __init__.py (可空)\n",
    "    2. 不能作为顶层模块来执行文件夹中的文件（即不能作为主函数的入口）\n",
    "'''"
   ]
  },
  {
   "cell_type": "code",
   "execution_count": null,
   "metadata": {},
   "outputs": [],
   "source": [
    "# _*_ Python Build-in Functions _*_ #\n",
    "# https://www.cnblogs.com/wj-1314/p/7502187.html\n",
    "'''\n",
    "数学运算：\n",
    "    abs()\n",
    "    divmod()\n",
    "    max(), min()\n",
    "    pow()\n",
    "    round() # 浮点数的四舍五入\n",
    "    sum()\n",
    "'''\n",
    "\n",
    "'''\n",
    "类型转换：\n",
    "    bool()\n",
    "    int(), float(), complex(), str()\n",
    "    bytearray() # bytes array\n",
    "    bytes()\n",
    "    \n",
    "    memoryview()\n",
    "    \n",
    "    ord(), chr(), bin(), oct(), hex()\n",
    "    \n",
    "    tuple(), list(), dictionary(), set(), frozenset() -> 不可变集合\n",
    "    \n",
    "    enumerate()\n",
    "    range()\n",
    "    iter()\n",
    "    slice()\n",
    "    \n",
    "    super()\n",
    "    object()\n",
    "'''\n",
    "\n",
    "'''\n",
    "序列操作：\n",
    "    all(), any() # 判断可迭代对象的每个元素是否TRUE\n",
    "    filter()\n",
    "    map()\n",
    "    next()\n",
    "    reversed() # 翻转序列，生成新的可迭代对象\n",
    "    sorted()\n",
    "    zip()\n",
    "'''\n",
    "\n",
    "'''\n",
    "对象操作：\n",
    "    help()\n",
    "    dir()\n",
    "    id()\n",
    "    hash()\n",
    "    type()\n",
    "    len()\n",
    "    ascii()\n",
    "'''\n",
    "\n",
    "'''\n",
    "反射操作：\n",
    "    _import_() # 动态导入模块\n",
    "    isinstance()\n",
    "    hasattr()\n",
    "    getsttr()\n",
    "    setattr()\n",
    "    delattr()\n",
    "    callable()\n",
    "    format()\n",
    "    var()\n",
    "'''\n",
    "\n",
    "'''\n",
    "变量操作：\n",
    "    globals()\n",
    "    locals()\n",
    "'''\n",
    "\n",
    "'''\n",
    "交互操作：\n",
    "    print()\n",
    "    input()\n",
    "'''\n",
    "\n",
    "'''\n",
    "文件操作：open()\n",
    "'''\n",
    "\n",
    "'''\n",
    "编译执行：\n",
    "    compile()\n",
    "    eval()\n",
    "    exec()\n",
    "    repr()\n",
    "'''\n",
    "\n",
    "'''\n",
    "装饰器：\n",
    "    property()\n",
    "    classmethod()\n",
    "    staticmethod()\n",
    "'''\n"
   ]
  },
  {
   "cell_type": "code",
   "execution_count": 15,
   "metadata": {},
   "outputs": [
    {
     "name": "stdout",
     "output_type": "stream",
     "text": [
      "fixed para:  39\n",
      "tuple para:  50 123\n",
      "dic para:  {'male': '30', 'female': '29'}\n"
     ]
    },
    {
     "data": {
      "text/plain": [
       "((50, 123), {'male': '30', 'female': '29'})"
      ]
     },
     "execution_count": 15,
     "metadata": {},
     "output_type": "execute_result"
    }
   ],
   "source": [
    "'''\n",
    "函数的参数不确定时，可以使用*args 和**kwargs，*args 没有key值，**kwargs有key值\n",
    "    *args表示任何多个无名参数，它是一个tuple\n",
    "    **kwargs表示关键字参数，它是一个dict\n",
    "'''\n",
    "def highschool_class(number, *args, **kwargs):\n",
    "    print('fixed para: ',number)\n",
    "    # 注意 args, kwargs 引用区别\n",
    "    print('tuple para: ',*args)\n",
    "    print('dic para: ',kwargs)\n",
    "    \n",
    "    return (args, kwargs) # 可以用这种方法，创建 tuple / dictionary\n",
    "\n",
    "highschool_class(39, 50, 123, male='30',female='29')"
   ]
  },
  {
   "cell_type": "code",
   "execution_count": null,
   "metadata": {},
   "outputs": [],
   "source": []
  }
 ],
 "metadata": {
  "kernelspec": {
   "display_name": "Python 3",
   "language": "python",
   "name": "python3"
  },
  "language_info": {
   "codemirror_mode": {
    "name": "ipython",
    "version": 3
   },
   "file_extension": ".py",
   "mimetype": "text/x-python",
   "name": "python",
   "nbconvert_exporter": "python",
   "pygments_lexer": "ipython3",
   "version": "3.8.5"
  }
 },
 "nbformat": 4,
 "nbformat_minor": 4
}
