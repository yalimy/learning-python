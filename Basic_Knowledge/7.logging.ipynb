{
 "cells": [
  {
   "cell_type": "code",
   "execution_count": 2,
   "metadata": {},
   "outputs": [
    {
     "name": "stderr",
     "output_type": "stream",
     "text": [
      "WARNING:root:warning level\n",
      "ERROR:root:error level\n",
      "CRITICAL:root:critical level\n"
     ]
    }
   ],
   "source": [
    "'''\n",
    "logging模块主要分为四个部分：\n",
    "\n",
    "    Loggers：提供应用程序直接使用的接口\n",
    "    Handlers：将Loggers产生的日志传到指定位置\n",
    "    Filters：对输出日志进行过滤\n",
    "    Formatters：控制输出格式\n",
    "    \n",
    "1.记录器（Logger）：定义要记录的日志内容，供API调用\n",
    "2.处理器（Handler）：将日志记录发送到输出终端，在这里日志记录被获取并用相关函数处理\n",
    "3.格式器（Formatter）\n",
    "4.过滤器（Filter）：多种过滤器能同时应用在记录器和处理器中\n",
    "5.日志级别：CRITICAL 50 > ERROR 40 > WARNING 30 (default)> INFO 20 > DEBUG 10\n",
    "\n",
    "简言之：Logger对象提供应用程序可直接使用的接口，Handler发送日志到适当的目的地，\n",
    "        Filter提供了过滤日志信息的方法，Formatter指定日志显示格式。\n",
    "'''\n",
    "\n",
    "# _*_ coding: utf-8 _*_ #\n",
    "\n",
    "# _*_ test default level _*_ #\n",
    "import logging \n",
    "# 1.no-need print 2.只有定义级别之上的，才有输出\n",
    "logging.debug('debug level')\n",
    "logging.info('info level')\n",
    "logging.warning('warning level')\n",
    "logging.error('error level')\n",
    "logging.critical('critical level')"
   ]
  },
  {
   "cell_type": "code",
   "execution_count": 4,
   "metadata": {},
   "outputs": [
    {
     "name": "stderr",
     "output_type": "stream",
     "text": [
      "WARNING:root:so is warning\n",
      "WARNING:root:so is warning\n"
     ]
    }
   ],
   "source": [
    "# _*_ logging output file _*_ #\n",
    "logging.basicConfig(filename='example.log', level=logging.INFO)\n",
    "logging.debug('debug if this message should exist in log file')\n",
    "logging.info('info should be in log file')\n",
    "logging.warning('so is warning')\n",
    "\n",
    "# formatter\n",
    "logging.basicConfig(\n",
    "    format = '%(asctime)s %(message)s',\n",
    "    datefmt = '%m/%d/%Y %I:%M:%S %p ;',\n",
    "    filename = 'example.log',\n",
    "    level = logging.INFO\n",
    ")\n",
    "logging.debug('debug if this message should exist in log file')\n",
    "logging.info('info should be in log file')\n",
    "logging.warning('so is warning')"
   ]
  },
  {
   "cell_type": "code",
   "execution_count": null,
   "metadata": {},
   "outputs": [],
   "source": [
    "# logging file formatter\n",
    "'''\n",
    "logging.basicConfig()函数中可通过具体参数来更改logging模块默认行为:\n",
    "\n",
    "    filename：用指定的文件名创建FiledHandler，这样日志会被存储在指定的文件中\n",
    "    filemode：文件打开模式\n",
    "    format：指定handler使用的日志显示格式\n",
    "    datefmt：指定日期时间格式\n",
    "    level：设置root logger的日志级别\n",
    "    stream：用指定的stream创建StreamHandler。可指定输出到sys.stderr,sys.stdout或者文件(f=open('test.log','w'))，默认为sys.stderr。\n",
    "    若同时列出了filename和stream两个参数，则stream参数会被忽略。\n",
    "    \n",
    "logging.basicConfig.format:\n",
    "    %(name)s Logger的名字\n",
    "    %(levelno)s 数字形式的日志级别\n",
    "    %(levelname)s 文本形式的日志级别\n",
    "    %(pathname)s 调用日志输出函数的模块的完整路径名，可能没有\n",
    "    %(filename)s 调用日志输出函数的模块的文件名\n",
    "    %(module)s 调用日志输出函数的模块名\n",
    "    %(funcName)s 调用日志输出函数的函数名\n",
    "    %(lineno)d 调用日志输出函数的语句所在的代码行\n",
    "    %(created)f 当前时间，用UNIX标准的表示时间的浮 点数表示\n",
    "    %(relativeCreated)d 输出日志信息时的，自Logger创建以 来的毫秒数\n",
    "    %(asctime)s 字符串形式的当前时间。默认格式是 “2003-07-08 16:49:45,896”。逗号后面的是毫秒\n",
    "    %(thread)d 线程ID。可能没有\n",
    "    %(threadName)s 线程名。可能没有\n",
    "    %(process)d 进程ID。可能没有\n",
    "    %(message)s用户输出的消息   \n",
    "'''"
   ]
  },
  {
   "cell_type": "code",
   "execution_count": 5,
   "metadata": {},
   "outputs": [
    {
     "data": {
      "text/plain": [
       "<RootLogger root (WARNING)>"
      ]
     },
     "execution_count": 5,
     "metadata": {},
     "output_type": "execute_result"
    }
   ],
   "source": [
    "# _*_ Logger Module _*_ #\n",
    "# Logger通常对应了程序的模块名\n",
    "'''\n",
    "LOG = logging.getLogger('app')\n",
    "LOG = logging.getLogger('app.kernel')\n",
    "\n",
    "Logger.setLevel(levelno)\n",
    "Logger.addFilter(filter) \\ Logger.removeFilter(filter)\n",
    "Logger.addHandler(hdlr)、Logger.removeHandler(hdlr)\n",
    "'''\n"
   ]
  },
  {
   "cell_type": "code",
   "execution_count": null,
   "metadata": {},
   "outputs": [],
   "source": []
  }
 ],
 "metadata": {
  "kernelspec": {
   "display_name": "Python 3",
   "language": "python",
   "name": "python3"
  },
  "language_info": {
   "codemirror_mode": {
    "name": "ipython",
    "version": 3
   },
   "file_extension": ".py",
   "mimetype": "text/x-python",
   "name": "python",
   "nbconvert_exporter": "python",
   "pygments_lexer": "ipython3",
   "version": "3.8.5"
  }
 },
 "nbformat": 4,
 "nbformat_minor": 4
}
