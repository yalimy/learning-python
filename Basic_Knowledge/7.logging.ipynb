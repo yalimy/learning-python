{
 "cells": [
  {
   "cell_type": "code",
   "execution_count": 2,
   "metadata": {},
   "outputs": [
    {
     "name": "stderr",
     "output_type": "stream",
     "text": [
      "WARNING:root:warning level\n",
      "ERROR:root:error level\n",
      "CRITICAL:root:critical level\n"
     ]
    }
   ],
   "source": [
    "'''\n",
    "logging模块主要分为四个部分：\n",
    "\n",
    "    Loggers：提供应用程序直接使用的接口\n",
    "    Handlers：将Loggers产生的日志传到指定位置\n",
    "    Filters：对输出日志进行过滤\n",
    "    Formatters：控制输出格式\n",
    "    \n",
    "1.记录器（Logger）：定义要记录的日志内容，供API调用\n",
    "2.处理器（Handler）：将日志记录发送到输出终端，在这里日志记录被获取并用相关函数处理\n",
    "3.格式器（Formatter）\n",
    "4.过滤器（Filter）：多种过滤器能同时应用在记录器和处理器中\n",
    "5.日志级别：CRITICAL 50 > ERROR 40 > WARNING 30 (default)> INFO 20 > DEBUG 10\n",
    "\n",
    "简言之：Logger对象提供应用程序可直接使用的接口，Handler发送日志到适当的目的地，\n",
    "        Filter提供了过滤日志信息的方法，Formatter指定日志显示格式。\n",
    "'''\n",
    "\n",
    "# _*_ coding: utf-8 _*_ #\n",
    "\n",
    "# _*_ test default level _*_ #\n",
    "import logging \n",
    "# 1.no-need print 2.只有定义级别之上的，才有输出\n",
    "logging.debug('debug level')\n",
    "logging.info('info level')\n",
    "logging.warning('warning level')\n",
    "logging.error('error level')\n",
    "logging.critical('critical level')"
   ]
  },
  {
   "cell_type": "code",
   "execution_count": null,
   "metadata": {},
   "outputs": [],
   "source": []
  },
  {
   "cell_type": "code",
   "execution_count": 4,
   "metadata": {},
   "outputs": [
    {
     "name": "stderr",
     "output_type": "stream",
     "text": [
      "WARNING:root:so is warning\n",
      "WARNING:root:so is warning\n"
     ]
    }
   ],
   "source": [
    "# _*_ logging output file _*_ #\n",
    "logging.basicConfig(filename='example.log', level=logging.INFO)\n",
    "logging.debug('debug if this message should exist in log file')\n",
    "logging.info('info should be in log file')\n",
    "logging.warning('so is warning')\n",
    "\n",
    "# formatter\n",
    "logging.basicConfig(\n",
    "    format = '%(asctime)s %(message)s',\n",
    "    datefmt = '%m/%d/%Y %I:%M:%S %p ;',\n",
    "    filename = 'example.log',\n",
    "    level = logging.INFO\n",
    ")\n",
    "logging.debug('debug if this message should exist in log file')\n",
    "logging.info('info should be in log file')\n",
    "logging.warning('so is warning')"
   ]
  },
  {
   "cell_type": "code",
   "execution_count": null,
   "metadata": {},
   "outputs": [],
   "source": [
    "# logging file formatter\n",
    "'''\n",
    "logging.basicConfig()函数中可通过具体参数来更改logging模块默认行为:\n",
    "\n",
    "    filename：用指定的文件名创建FiledHandler，这样日志会被存储在指定的文件中\n",
    "    filemode：文件打开模式\n",
    "    format：指定handler使用的日志显示格式\n",
    "    datefmt：指定日期时间格式\n",
    "    level：设置root logger的日志级别\n",
    "    stream：用指定的stream创建StreamHandler。可指定输出到sys.stderr,sys.stdout或者文件(f=open('test.log','w'))，默认为sys.stderr。\n",
    "    若同时列出了filename和stream两个参数，则stream参数会被忽略。\n",
    "    \n",
    "logging.basicConfig.format:\n",
    "    %(name)s Logger的名字\n",
    "    %(levelno)s 数字形式的日志级别\n",
    "    %(levelname)s 文本形式的日志级别\n",
    "    %(pathname)s 调用日志输出函数的模块的完整路径名，可能没有\n",
    "    %(filename)s 调用日志输出函数的模块的文件名\n",
    "    %(module)s 调用日志输出函数的模块名\n",
    "    %(funcName)s 调用日志输出函数的函数名\n",
    "    %(lineno)d 调用日志输出函数的语句所在的代码行\n",
    "    %(created)f 当前时间，用UNIX标准的表示时间的浮 点数表示\n",
    "    %(relativeCreated)d 输出日志信息时的，自Logger创建以 来的毫秒数\n",
    "    %(asctime)s 字符串形式的当前时间。默认格式是 “2003-07-08 16:49:45,896”。逗号后面的是毫秒\n",
    "    %(thread)d 线程ID。可能没有\n",
    "    %(threadName)s 线程名。可能没有\n",
    "    %(process)d 进程ID。可能没有\n",
    "    %(message)s用户输出的消息   \n",
    "'''"
   ]
  },
  {
   "cell_type": "code",
   "execution_count": 5,
   "metadata": {},
   "outputs": [
    {
     "data": {
      "text/plain": [
       "<RootLogger root (WARNING)>"
      ]
     },
     "execution_count": 5,
     "metadata": {},
     "output_type": "execute_result"
    }
   ],
   "source": [
    "# _*_ Logger Module _*_ #\n",
    "# Logger通常对应了程序的模块名\n",
    "'''\n",
    "LOG = logging.getLogger('app')\n",
    "LOG = logging.getLogger('app.kernel')\n",
    "\n",
    "Logger.setLevel(levelno)\n",
    "Logger.addFilter(filter) \\ Logger.removeFilter(filter)\n",
    "Logger.addHandler(hdlr)、Logger.removeHandler(hdlr)\n",
    "'''\n",
    "import logging\n",
    "# Logger\n",
    "'''\n",
    "Logger是一个树形层级结构，每个程序在输出信息之前都要获得一个Logger，Logger通常对应了程序的模块名\n",
    "    Logger.setLevel(lel)\n",
    "    Logger.addFilter(filt)、Logger.removeFilter(filt)\n",
    "    Logger.addHandler(hdlr)、Logger.removeHandler(hdlr)\n",
    "'''\n",
    "log = logging.getLogger()\n",
    "# log.setLevel(40)\n",
    "\n",
    "# Handler\n",
    "'''\n",
    "Handler对象负责发送相关的信息到指定目的地，还可以编写自己的Handler：\n",
    "    Handler.setLevel(lel)\n",
    "    Handler.setFormatter()\n",
    "    Handler.addFilter(filt)、Handler.removeFilter(filt)\n",
    "常用的Handler有：\n",
    "    logging.StreamHandler()\n",
    "    logging.FileHandler()\n",
    "    logging.handlers.RotatingFileHandler(filename[, mode[, maxBytes[, backupCount]]])\n",
    "    logging.handlers.TimedRotatingFileHandler(filename [,when [,interval [,backupCount]]])\n",
    "    \n",
    "'''\n",
    "fh = logging.FileHandler('example2.log')\n",
    "sh = logging.StreamHandler() # sys.stdout.console\n",
    "\n",
    "# Farmatter (Handler Formatter)\n",
    "formatter = logging.Formatter('%(asctime)s -%(name)s - %(levelname)s - %(message)s')\n",
    "fh.setFormatter(formatter)\n",
    "sh.setFormatter(formatter)\n",
    "\n",
    "# Filter\n",
    "# Logger/Handler : addFilter(filt)、removeFilter(filt)\n",
    "\n",
    "# 为 Logger 添加多个Handler/Filter Object\n",
    "log.addHandler(fh)\n",
    "log.addHandler(sh)\n",
    "\n",
    "# Level and Message\n",
    "log.debug('logger debug message')\n",
    "log.info('logger info message')\n",
    "log.warning('logger warning message')\n",
    "log.error('logger error message')\n",
    "log.critical('logger critical message')"
   ]
  },
  {
   "cell_type": "code",
   "execution_count": null,
   "metadata": {},
   "outputs": [],
   "source": [
    "import logging\n",
    "logger = logging.getLogger()\n",
    "logger1 = logging.getLogger('mylogger')\n",
    "logger2 = logging.getLogger('mylogger')\n",
    "\n",
    "logger1.setLevel(logging.DEBUG)\n",
    "logger2.setLevel(logging.INFO)\n",
    "\n",
    "fh = logging.FileHandler('mylog.log')\n",
    "sh = logging.StreamHandler()\n",
    "\n",
    "formatter = logging.Formatter('%(asctime)s -%(name)s - %(levelname)s - %(message)s')\n",
    "fh.setFormatter(formatter)\n",
    "sh.setFormatter(formatter)\n",
    "\n",
    "# logger.addHandler(fh)\n",
    "# logger.addHandler(sh)\n",
    "logger1.addHandler(fh)\n",
    "logger1.addHandler(sh)\n",
    "logger2.addHandler(fh)\n",
    "logger2.addHandler(sh)\n",
    "\n",
    "logger1.debug('logger1111 debug message')\n",
    "logger1.info('logger1111 info message')\n",
    "logger1.warning('logger1111 warning message')\n",
    "logger1.error('logger1111 error message')\n",
    "logger1.critical('logger1111 critical message')\n",
    " \n",
    "logger2.debug('logger2222 debug message')\n",
    "logger2.info('logger2222 info message')\n",
    "logger2.warning('logger2222 warning message')\n",
    "logger2.error('logger2222 error message')\n",
    "logger2.critical('logger2222 critical message')\n",
    "\n",
    "'''\n",
    "注意两个问题：\n",
    "\n",
    "1.logger1和logger2对应的是同一个Logger实例，只要logging.getLogger（name）中名称参数name相同则返回的Logger实例就是同一个，且仅有一个.\n",
    "也即name与Logger实例一一对应\n",
    "\n",
    "2.通过logger = logging.getLogger()显示的创建了root Logger，而logger1 / logger2 创建了root Logger的孩子(root.)mylogger\n",
    "于是 logger1,logger2 既会将消息分发给他的handler进行处理也会传递给所有的祖先Logger处理\n",
    "\n",
    "3.注释掉logger.addHandler，root.Logger 没有输出处理，于是logger1，logger2的消息在logger中没有显示输出\n",
    "'''"
   ]
  }
 ],
 "metadata": {
  "kernelspec": {
   "display_name": "Python 3",
   "language": "python",
   "name": "python3"
  },
  "language_info": {
   "codemirror_mode": {
    "name": "ipython",
    "version": 3
   },
   "file_extension": ".py",
   "mimetype": "text/x-python",
   "name": "python",
   "nbconvert_exporter": "python",
   "pygments_lexer": "ipython3",
   "version": "3.8.5"
  }
 },
 "nbformat": 4,
 "nbformat_minor": 4
}
