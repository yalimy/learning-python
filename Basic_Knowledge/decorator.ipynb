{
 "cells": [
  {
   "cell_type": "code",
   "execution_count": 15,
   "metadata": {},
   "outputs": [
    {
     "name": "stdout",
     "output_type": "stream",
     "text": [
      "5\n",
      "0.5001199245452881\n",
      "********************\n",
      "6\n",
      "0.20311212539672852\n",
      "********************\n",
      "26\n",
      "0.11047005653381348\n"
     ]
    }
   ],
   "source": [
    "# _*_ 带参数的被包装函数 _*_ #\n",
    "import time\n",
    "def show_time(func):\n",
    "    def wrapper(*args, **kwargs):  # wrapper()可以使用参数 func ，因为这是一个闭包\n",
    "        start = time.time()\n",
    "        func(*args, **kwargs)\n",
    "        print(time.time()-start)\n",
    "    return wrapper\n",
    "\n",
    "@show_time # 等价于 foo = show_time(foo) \n",
    "def foo(a, b):\n",
    "    print(a + b)\n",
    "    time.sleep(0.5)\n",
    "    \n",
    "@show_time # 等价于 bar = show_time(bar)\n",
    "def bar(a, b):\n",
    "    print(a * b)\n",
    "    time.sleep(0.2)\n",
    "    \n",
    "@show_time\n",
    "def add(*args, **kwargs):\n",
    "    time.sleep(0.1)\n",
    "    sum = 0\n",
    "    for i in args:\n",
    "        sum += i\n",
    "    print(sum)\n",
    "\n",
    "foo(2, 3)\n",
    "print('*' * 20)\n",
    "bar(2, 3)\n",
    "print('*' * 20)\n",
    "add(2,5,6,9,4) # *args 不是 list"
   ]
  },
  {
   "cell_type": "code",
   "execution_count": 17,
   "metadata": {},
   "outputs": [
    {
     "name": "stdout",
     "output_type": "stream",
     "text": [
      "foo function\n",
      "spend time:  0.3042938709259033\n",
      "This event will login!\n"
     ]
    }
   ],
   "source": [
    "# _*_ 带参数的包装函数 _*_ #\n",
    "'''\n",
    "1. log是带参数的装饰器，并返回一个装饰器(含参数的闭包函数)\n",
    "2. @log(1) : add = show_time(add)(flag=1)\n",
    "'''\n",
    "def log(flag=0):\n",
    "    def show_time(func):\n",
    "        def wrapper(*args, **kwargs):\n",
    "            start = time.time()\n",
    "            func(*args, **kwargs)\n",
    "            print('spend time: ',time.time()-start)\n",
    "            \n",
    "            if flag:\n",
    "                print('This event will login!')\n",
    "        return wrapper\n",
    "    return show_time\n",
    "\n",
    "@log(1)\n",
    "def foo():\n",
    "    time.sleep(0.3)\n",
    "    print('foo function')\n",
    "    \n",
    "foo()"
   ]
  },
  {
   "cell_type": "code",
   "execution_count": 19,
   "metadata": {},
   "outputs": [
    {
     "data": {
      "text/plain": [
       "'<b><i>hello world!</i></b>'"
      ]
     },
     "execution_count": 19,
     "metadata": {},
     "output_type": "execute_result"
    }
   ],
   "source": [
    "# _*_ 多层装饰器 _*_ #\n",
    "def makebold(func):\n",
    "    def wrapper():\n",
    "        return '<b>' + func() + '</b>'\n",
    "    return wrapper\n",
    "\n",
    "def makeitealic(func):\n",
    "    def wrapper():\n",
    "        return '<i>' + func() + '</i>'\n",
    "    return wrapper\n",
    "\n",
    "@makebold    # hello = makebold(hello)    -> wrapper2\n",
    "@makeitealic # hello = makeitealic(hello) -> wrapper1\n",
    "def hello():\n",
    "    return 'hello world!'\n",
    "    \n",
    "hello()"
   ]
  },
  {
   "cell_type": "code",
   "execution_count": null,
   "metadata": {},
   "outputs": [],
   "source": []
  }
 ],
 "metadata": {
  "kernelspec": {
   "display_name": "Python 3",
   "language": "python",
   "name": "python3"
  },
  "language_info": {
   "codemirror_mode": {
    "name": "ipython",
    "version": 3
   },
   "file_extension": ".py",
   "mimetype": "text/x-python",
   "name": "python",
   "nbconvert_exporter": "python",
   "pygments_lexer": "ipython3",
   "version": "3.8.5"
  }
 },
 "nbformat": 4,
 "nbformat_minor": 4
}
