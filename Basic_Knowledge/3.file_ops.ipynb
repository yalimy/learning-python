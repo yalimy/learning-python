{
 "cells": [
  {
   "cell_type": "code",
   "execution_count": null,
   "metadata": {},
   "outputs": [],
   "source": [
    "'''参考：\n",
    "https://www.cnblogs.com/wj-1314/p/8476315.html\n",
    "https://www.cnblogs.com/wj-1314/p/8557077.html\n",
    "\n",
    "Python中打开文件的函数为open('filename',mode='r',encode='None')，返回文件的句柄，然后根据句柄来对文件进行增,删,改,查的操作！\n",
    "注意：\n",
    "    1.python解释器打开文件时，是对硬盘进行操作,需要内核态才可以操作硬盘，此时python解释器是调用操作系统的文件读取接口。\n",
    "    windows中文版本默认使用GBK编码表，linux默认使用utf-8，若操作的文件在windows下，且非GBK编码的，需要在open函数中声明编码类型，使操作系统运用相应的编码规则进行解码读取，防止串码/乱码现象。\n",
    "\n",
    "　　2.open主要有三种模式,读(r),写(w),追加(a),其中，默认为读模式。\n",
    "  \n",
    "    3.os.remove(file)\n",
    "      os.rename(current_file_name, new_file_name)\n",
    "      os.replace(file_new_name,file_name)\n",
    "\n",
    "常见函数：\n",
    "    F.read(size)\n",
    "    F.readline(size)\n",
    "    F.readlines(size)\n",
    "    F.write(str) \n",
    "    F.writelines(seq) \n",
    "    F.close() \n",
    "    F.flush()\n",
    "    F.fileno() # 返回一个长整型的”文件标签“ \n",
    "    F.isatty() # 文件是否是一个终端设备文件（unix系统中的）\n",
    "    F.tell()   # 返回文件操作标记的当前位置，以文件的开头为原点 \n",
    "    F.next()   # 返回下一行，并将文件操作标记位移到下一行。把一个file用于for ... in file这样的语句时，就是调用next()函数来实现遍历的。 \n",
    "    F.seek(offset[,whence]) # 将文件打操作标记移到offset的位置。这个offset一般是相对于文件的开头来计算的，一般为正数。但如果提供了whence参数就不一定了，whence可以为0表示从头开始计算，1表示以当前位置为原点计算。2表示以文件末尾为原点进行计算。需要注意，如果文件以a或a+的模式打开，每次进行写操作时，文件操作标记会自动返回到文件末尾\n",
    "    F.truncate([size]) # 把文件裁成规定的大小，默认的是裁到当前文件操作标记的位置。如果size比文件的大小还要大，依据系统的不同可能是不改变文件，也可能是用0把文件补到相应的大小，也可能是以一些随机的内容加上去。如果没有指定 size，则从当前位置起截断；截断之后 size 后面的所有字符被删除。仅当以 \"r+\"   \"rb+\"    \"w\"   \"wb\" \"wb+\"等以可写模式打开的文件才可以执行该功能\n",
    "'''"
   ]
  },
  {
   "cell_type": "code",
   "execution_count": null,
   "metadata": {},
   "outputs": [],
   "source": [
    "# 随机产生10行数字，每行十个，并把标准输出定向到文件\n",
    "\n",
    "import random\n",
    "import sys\n",
    "sys.stdout = open('stdout.txt', 'w')\n",
    "for i in range(10):\n",
    "    for i in range(10):\n",
    "        sys.stdout.write(str(random.randint(0,9)))\n",
    "    sys.stdout.write('\\n')\n",
    "print(sys.stdout.tell())\n",
    "sys.stdout.close()"
   ]
  },
  {
   "cell_type": "code",
   "execution_count": null,
   "metadata": {},
   "outputs": [],
   "source": [
    "f = open('output.txt','r+',encode='gbk')\n",
    "line = f.readline()\n",
    "print('filename ',f.name)\n",
    "print('first row: ',line)\n",
    "print('position:',f.tell())\n",
    "    \n",
    "f.truncate()\n",
    "    \n",
    "line = f.readline()\n",
    "print('filename ',f.name)\n",
    "print('first row: ',line)\n",
    "print('position:',f.tell())\n",
    "\n",
    "f.close()"
   ]
  },
  {
   "cell_type": "code",
   "execution_count": null,
   "metadata": {},
   "outputs": [],
   "source": []
  }
 ],
 "metadata": {
  "kernelspec": {
   "display_name": "Python 3",
   "language": "python",
   "name": "python3"
  },
  "language_info": {
   "codemirror_mode": {
    "name": "ipython",
    "version": 3
   },
   "file_extension": ".py",
   "mimetype": "text/x-python",
   "name": "python",
   "nbconvert_exporter": "python",
   "pygments_lexer": "ipython3",
   "version": "3.8.5"
  }
 },
 "nbformat": 4,
 "nbformat_minor": 4
}
