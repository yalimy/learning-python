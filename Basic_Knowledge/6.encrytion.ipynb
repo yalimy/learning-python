{
 "cells": [
  {
   "cell_type": "code",
   "execution_count": 6,
   "metadata": {},
   "outputs": [
    {
     "name": "stdout",
     "output_type": "stream",
     "text": [
      "cbff36039c3d0212b3e34c23dcde1456\n",
      "69c974abecb370564b051094c820fc6a\n",
      "cfc9677e39040c0b8ce679118afbf505\n",
      "b'\\xcf\\xc9g~9\\x04\\x0c\\x0b\\x8c\\xe6y\\x11\\x8a\\xfb\\xf5\\x05'\n"
     ]
    }
   ],
   "source": [
    "# _*_ 加密算法 _*_ #\n",
    "\n",
    "'''\n",
    "加密算法：\n",
    "    HASH：映射为固定长度的字符串，多对一的关系，单向函数\n",
    "    MD5：映射为唯一的128bits数字指纹，一对一关系，算法不可逆\n",
    "    SHA-256: 增强型MD5\n",
    "    RSA非对称加密算法：对极大整数做因数分解的难度决定了RSA算法的可靠性。换言之，对一极大整数做因数分解愈困难，RSA算法愈可靠。\n",
    "    假如有人找到一种快速因数分解的算法的话，那么用RSA加密的信息的可靠性就肯定会极度下降。    \n",
    "'''\n",
    "# 避免撞库式密码泄露，可以“加盐”\n",
    "import hashlib\n",
    "md5 = hashlib.md5(b'123.com')\n",
    "print(md5.hexdigest())\n",
    "\n",
    "md5 = hashlib.md5('盐'.encode('utf-8'))\n",
    "md5.update(b'123.com')\n",
    "print(md5.hexdigest())\n",
    "\n",
    "# dynamic salt\n",
    "md5 = hashlib.md5('123.com'[:2].encode('utf-8') + '盐'.encode('utf-8'))\n",
    "md5.update(b'123.com')\n",
    "print(md5.hexdigest())\n",
    "\n",
    "print(md5.digest())\n",
    "# md5 -> sha256 \n",
    "\n"
   ]
  },
  {
   "cell_type": "code",
   "execution_count": null,
   "metadata": {},
   "outputs": [],
   "source": [
    "# RSA 加密算法\n",
    "# 取两个质数\n",
    "p = 53\n",
    "q = 59\n",
    "n = p * q  # 3127\n",
    "fai = (p - 1) * (q - 1)\n",
    "# fai = 3016\n",
    "e = 3\n",
    "# fai/3 = 1005.333  # 除不尽，这是质数\n",
    "d = 2011  # d是唯一的（这个自己算）\n",
    "# 这里我们反推一下d是否正确\n",
    "# (e * d) % fai = 1\n",
    "# (e， n)组成公钥\n",
    "# （d, n）组成私钥\n",
    " \n",
    "# 加密和解密的过程\n",
    "# c = (m**e)%n\n",
    "# m = (c**d)%n"
   ]
  },
  {
   "cell_type": "code",
   "execution_count": 15,
   "metadata": {},
   "outputs": [
    {
     "name": "stdout",
     "output_type": "stream",
     "text": [
      "4\n",
      "3\n",
      "7\n",
      "0.8693836827950254\n",
      "b\n",
      "9.496507293158627\n",
      "sp64u8\n",
      "[5, 4, 9, 2, 7, 1, 3, 8, 0, 6]\n"
     ]
    }
   ],
   "source": [
    "# _*_ random module _*_ #\n",
    "import random,string\n",
    "print(random.randrange(1,10)) # 1-10一个随机数，不含10\n",
    "print(random.randint(1,10))   # 1-10一个随机数，含10\n",
    "print(random.randrange(1, 100, 2)) # 随机偶数\n",
    "print(random.random())   # 随机浮点数\n",
    "print(random.choice('abce3#$@1')) # 随机其中的一个字符\n",
    "\n",
    "print(random.uniform(10,5)) # 产生一个随机实数\n",
    "\n",
    "print(''.join(random.sample(string.ascii_lowercase + string.digits, 6))) # 随机6位长的字母数字组合\n",
    "\n",
    "num = list(range(10))\n",
    "random.shuffle(num)\n",
    "print(num) # 原 list 重新排序"
   ]
  },
  {
   "cell_type": "code",
   "execution_count": 18,
   "metadata": {},
   "outputs": [
    {
     "name": "stdout",
     "output_type": "stream",
     "text": [
      "abcdefghijklmnopqrstuvwxyzABCDEFGHIJKLMNOPQRSTUVWXYZ\n"
     ]
    }
   ],
   "source": [
    "# _*_ string module _*_ #\n",
    "'''\n",
    "string.ascii_lowercase / ascii_uppercase 大小写字母集\n",
    "string.lowercase / string.uppercase\n",
    "string.ascii_letters 大小写字母集\n",
    "string.letters\n",
    "\n",
    "string.digits 数字字符串\n",
    "string.hexdigits 十六进制字符串\n",
    "string.octdigits 八进制字符串\n",
    "\n",
    "string.punctuation 所有标点字符\n",
    "string.printable\n",
    "string.whitespace 空白字符'\\t\\n\\x0b\\x0c\\r'\n",
    "\n",
    "'''\n",
    "import string\n",
    "print(string.ascii_letters)"
   ]
  },
  {
   "cell_type": "code",
   "execution_count": 19,
   "metadata": {},
   "outputs": [
    {
     "data": {
      "text/plain": [
       "['__doc__',\n",
       " '__loader__',\n",
       " '__name__',\n",
       " '__package__',\n",
       " '__spec__',\n",
       " 'acos',\n",
       " 'acosh',\n",
       " 'asin',\n",
       " 'asinh',\n",
       " 'atan',\n",
       " 'atan2',\n",
       " 'atanh',\n",
       " 'ceil',\n",
       " 'comb',\n",
       " 'copysign',\n",
       " 'cos',\n",
       " 'cosh',\n",
       " 'degrees',\n",
       " 'dist',\n",
       " 'e',\n",
       " 'erf',\n",
       " 'erfc',\n",
       " 'exp',\n",
       " 'expm1',\n",
       " 'fabs',\n",
       " 'factorial',\n",
       " 'floor',\n",
       " 'fmod',\n",
       " 'frexp',\n",
       " 'fsum',\n",
       " 'gamma',\n",
       " 'gcd',\n",
       " 'hypot',\n",
       " 'inf',\n",
       " 'isclose',\n",
       " 'isfinite',\n",
       " 'isinf',\n",
       " 'isnan',\n",
       " 'isqrt',\n",
       " 'ldexp',\n",
       " 'lgamma',\n",
       " 'log',\n",
       " 'log10',\n",
       " 'log1p',\n",
       " 'log2',\n",
       " 'modf',\n",
       " 'nan',\n",
       " 'perm',\n",
       " 'pi',\n",
       " 'pow',\n",
       " 'prod',\n",
       " 'radians',\n",
       " 'remainder',\n",
       " 'sin',\n",
       " 'sinh',\n",
       " 'sqrt',\n",
       " 'tan',\n",
       " 'tanh',\n",
       " 'tau',\n",
       " 'trunc']"
      ]
     },
     "execution_count": 19,
     "metadata": {},
     "output_type": "execute_result"
    }
   ],
   "source": [
    "# _*_ math standard module _*_ #\n",
    "import math\n",
    "dir(math)\n",
    "help(math.func)"
   ]
  },
  {
   "cell_type": "code",
   "execution_count": null,
   "metadata": {},
   "outputs": [],
   "source": []
  }
 ],
 "metadata": {
  "kernelspec": {
   "display_name": "Python 3",
   "language": "python",
   "name": "python3"
  },
  "language_info": {
   "codemirror_mode": {
    "name": "ipython",
    "version": 3
   },
   "file_extension": ".py",
   "mimetype": "text/x-python",
   "name": "python",
   "nbconvert_exporter": "python",
   "pygments_lexer": "ipython3",
   "version": "3.8.5"
  }
 },
 "nbformat": 4,
 "nbformat_minor": 4
}
