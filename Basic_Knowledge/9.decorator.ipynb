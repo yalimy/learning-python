{
 "cells": [
  {
   "cell_type": "code",
   "execution_count": null,
   "metadata": {},
   "outputs": [],
   "source": [
    "'''\n",
    "装饰器本质上就是一个函数，它可以让其他函数在不需要做任何代码变动的前提下，增加额外的功能，\n",
    "装饰器的返回值是一个函数对象（函数的指针）\n",
    "'''"
   ]
  },
  {
   "cell_type": "code",
   "execution_count": 4,
   "metadata": {},
   "outputs": [
    {
     "name": "stdout",
     "output_type": "stream",
     "text": [
      "func: foo\n",
      "func: foo\n",
      "1490472107024 1490472107024\n",
      "func: bar\n",
      "func: boo\n",
      "None\n"
     ]
    }
   ],
   "source": [
    "# _*_ 1.函数即对象 _*_ #\n",
    "\n",
    "# 性质1：可以赋值于其他变量\n",
    "def foo():\n",
    "    print('func: foo')\n",
    "\n",
    "ff = foo\n",
    "ff()\n",
    "foo()\n",
    "print(id(ff), id(foo)) # 指向同一个地址\n",
    "\n",
    "# 性质2：可以作为参数传递和返回值\n",
    "def bar(func):\n",
    "    print('func: bar')\n",
    "    func()\n",
    "    \n",
    "def boo():\n",
    "    print('func: boo')\n",
    "    \n",
    "bb = bar(boo)\n",
    "\n",
    "# 注意下面两个的区别\n",
    "bb\n",
    "print(bb)"
   ]
  },
  {
   "cell_type": "code",
   "execution_count": 18,
   "metadata": {
    "scrolled": true
   },
   "outputs": [
    {
     "name": "stdout",
     "output_type": "stream",
     "text": [
      "101\n",
      "101\n",
      "Hello  Alex ! The  1  times.\n",
      "Hello  Alex ! The  2  times.\n",
      "Hello  Alex ! The  3  times.\n",
      "Hello  Alex ! The  4  times.\n",
      "None\n",
      "hello world!\n"
     ]
    }
   ],
   "source": [
    "# _*_ 2.函数嵌套与闭包 _*_ #\n",
    "# 函数嵌套：即在函数内部，还有函数定义\n",
    "# 闭包：一个函数中的嵌套函数，引用 enclosing 域内的变量，则该嵌套函数即为闭包\n",
    "\n",
    "# eg.1\n",
    "def add_outer(outer):\n",
    "    outer = 0\n",
    "    def add_inner(inner):\n",
    "        outer = 1\n",
    "        return outer + inner\n",
    "    return add_inner\n",
    "\n",
    "a1 = add_outer(12)\n",
    "a2 = add_outer(13)\n",
    "print(a1(100))\n",
    "print(a2(100))\n",
    "\n",
    "'''\n",
    "outer既是外部函数add_outer的参数，又是嵌套函数add_inner的变量，于是，可以看做函数add_inner的一个配置configuration\n",
    "配置信息不同，add_inner 的功能也就不同，这就是闭包\n",
    "'''\n",
    "\n",
    "# eg.2\n",
    "def hellocounter(name):\n",
    "    count = 0\n",
    "    def counter():\n",
    "        nonlocal count \n",
    "        count += 1\n",
    "        print('Hello ',name,'! The ',str(count),' times.')\n",
    "    return counter\n",
    "\n",
    "hello = hellocounter('Alex')\n",
    "hello()\n",
    "hello()\n",
    "hello()\n",
    "print(hello())\n",
    "\n",
    "# eg.3 装饰器：对函数(参数，返回值等)进行加工处理，生成一个功能增强版的函数！\n",
    "def make_bold(n):\n",
    "    def wrapped():\n",
    "        return n()\n",
    "    return wrapped\n",
    "\n",
    "def make_italic(n):\n",
    "    def wrapped():\n",
    "        return n()\n",
    "    return wrapped\n",
    "\n",
    "@make_bold\n",
    "@make_italic\n",
    "def hello():\n",
    "    return 'hello world!'\n",
    "\n",
    "print(hello())"
   ]
  },
  {
   "cell_type": "code",
   "execution_count": 4,
   "metadata": {},
   "outputs": [
    {
     "name": "stdout",
     "output_type": "stream",
     "text": [
      "pos: [0, 0]\n",
      "[10, 0]\n",
      "[10, 20]\n",
      "[0, 20]\n"
     ]
    },
    {
     "data": {
      "text/plain": [
       "['who  are you']"
      ]
     },
     "execution_count": 4,
     "metadata": {},
     "output_type": "execute_result"
    }
   ],
   "source": [
    "# 闭包用途1：闭包执行完成后，仍然能够保持住当前的运行环境，即：本次执行结果可以当做下次执行的初始值\n",
    "origin = [0,0]\n",
    "def create(pos=origin):\n",
    "    def player(dis,step):\n",
    "        pos[0] = pos[0] + dis[0] * step\n",
    "        pos[1] = pos[1] + dis[1] * step\n",
    "        return pos\n",
    "    print('pos:',pos)\n",
    "    return player\n",
    "\n",
    "player = create()\n",
    "print(player([1,0], 10))\n",
    "print(player([0,1], 20))\n",
    "print(player([-1,0], 10))\n",
    "\n",
    "# 闭包用途2：闭包可以根据外部作用域的局部变量，达到配置(configuration)功能\n",
    "def make_filter(keep):\n",
    "    def filter(filename):\n",
    "        with open(filename,'r') as f:\n",
    "            data = [i for i in f.readlines() if keep in i]\n",
    "            ''' # 等价于以下 code\n",
    "            for line in f.readlines():\n",
    "                if keep in line.strip().split(' '):\n",
    "                    data.append(line)\n",
    "                else:\n",
    "                    continue\n",
    "            '''\n",
    "        return data\n",
    "    return filter\n",
    "\n",
    "mf = make_filter('pass')\n",
    "mf('pass.txt')\n",
    "\n",
    "mf = make_filter('who')\n",
    "mf('pass.txt')"
   ]
  },
  {
   "cell_type": "code",
   "execution_count": 5,
   "metadata": {},
   "outputs": [
    {
     "name": "stdout",
     "output_type": "stream",
     "text": [
      "5\n",
      "0.5095934867858887\n",
      "********************\n",
      "6\n",
      "0.20775103569030762\n",
      "********************\n",
      "26\n",
      "0.10629534721374512\n"
     ]
    }
   ],
   "source": [
    "# _*_ 带参数的被包装函数 _*_ #\n",
    "import time\n",
    "def show_time(func):\n",
    "    def wrapper(*args, **kwargs):  # wrapper()可以使用参数 func ，因为这是一个闭包\n",
    "        start = time.time()\n",
    "        func(*args, **kwargs)\n",
    "        print(time.time()-start)\n",
    "    return wrapper\n",
    "\n",
    "@show_time # 等价于 foo = show_time(foo) \n",
    "def foo(a, b):\n",
    "    print(a + b)\n",
    "    time.sleep(0.5)\n",
    "    \n",
    "@show_time # 等价于 bar = show_time(bar)\n",
    "def bar(a, b):\n",
    "    print(a * b)\n",
    "    time.sleep(0.2)\n",
    "    \n",
    "@show_time\n",
    "def add(*args, **kwargs):\n",
    "    time.sleep(0.1)\n",
    "    sum = 0\n",
    "    for i in args:\n",
    "        sum += i\n",
    "    print(sum)\n",
    "\n",
    "foo(2, 3)\n",
    "print('*' * 20)\n",
    "bar(2, 3)\n",
    "print('*' * 20)\n",
    "add(2,5,6,9,4) # *args 不是 list"
   ]
  },
  {
   "cell_type": "code",
   "execution_count": 6,
   "metadata": {},
   "outputs": [
    {
     "name": "stdout",
     "output_type": "stream",
     "text": [
      "foo function\n",
      "spend time:  0.30928468704223633\n",
      "This event will login!\n"
     ]
    }
   ],
   "source": [
    "# _*_ 带参数的包装函数 _*_ #\n",
    "'''\n",
    "1. log是带参数的装饰器，并返回一个装饰器(含参数的闭包函数)\n",
    "2. @log(1) : add = show_time(add)(flag=1)\n",
    "'''\n",
    "def log(flag=0):\n",
    "    def show_time(func):\n",
    "        def wrapper(*args, **kwargs):\n",
    "            start = time.time()\n",
    "            func(*args, **kwargs)\n",
    "            print('spend time: ',time.time()-start)\n",
    "            \n",
    "            if flag:\n",
    "                print('This event will login!')\n",
    "        return wrapper\n",
    "    return show_time\n",
    "\n",
    "@log(1)\n",
    "def foo():\n",
    "    time.sleep(0.3)\n",
    "    print('foo function')\n",
    "    \n",
    "foo()"
   ]
  },
  {
   "cell_type": "code",
   "execution_count": 7,
   "metadata": {},
   "outputs": [
    {
     "data": {
      "text/plain": [
       "'<b><i>hello world!</i></b>'"
      ]
     },
     "execution_count": 7,
     "metadata": {},
     "output_type": "execute_result"
    }
   ],
   "source": [
    "# _*_ 多层装饰器：注意装饰顺序 _*_ #\n",
    "def makebold(func):\n",
    "    def wrapper():\n",
    "        return '<b>' + func() + '</b>'\n",
    "    return wrapper\n",
    "\n",
    "def makeitealic(func):\n",
    "    def wrapper():\n",
    "        return '<i>' + func() + '</i>'\n",
    "    return wrapper\n",
    "\n",
    "@makebold    # hello = makebold(hello)    -> wrapper2\n",
    "@makeitealic # hello = makeitealic(hello) -> wrapper1\n",
    "def hello():\n",
    "    return 'hello world!'\n",
    "    \n",
    "hello()"
   ]
  },
  {
   "cell_type": "code",
   "execution_count": 13,
   "metadata": {},
   "outputs": [
    {
     "name": "stdout",
     "output_type": "stream",
     "text": [
      "bar func\n",
      "<bound method Timer.__name__ of <__main__.Timer object at 0x000001844F219100>>\n",
      "spend time: 1.0003278255462646\n",
      "foo func\n",
      "foo\n"
     ]
    }
   ],
   "source": [
    "# _*_ 类装饰器：封装与继承，当用 @ 形式将装饰器附加到函数上时，会调用class.__call__方法 _*_ #\n",
    "class Timer(object):\n",
    "    def __init__(self, func):\n",
    "        self._func = func # self._func class的私有函数\n",
    "        self._name = 'timer'\n",
    "        \n",
    "    def __call__(self):\n",
    "        start = time.time()\n",
    "        self._func()\n",
    "        print('spend time:',time.time()-start)\n",
    "        \n",
    "    def __name__(self):\n",
    "        return self._name\n",
    "        \n",
    "@Timer # bar = Timer(bar)\n",
    "def bar():\n",
    "    time.sleep(1)\n",
    "    print('bar func')\n",
    "    print(bar.__name__) # 使用装饰器后，函数的元信息变成了装饰器的元信息\n",
    "    \n",
    "bar()\n",
    "\n",
    "\n",
    "def foo():\n",
    "    time.sleep(0.5)\n",
    "    print(\"foo func\")\n",
    "    print(foo.__name__)\n",
    "    \n",
    "foo()\n"
   ]
  },
  {
   "cell_type": "code",
   "execution_count": 18,
   "metadata": {},
   "outputs": [
    {
     "name": "stdout",
     "output_type": "stream",
     "text": [
      "<function foo at 0x000001844FE8C8B0>  metadata  foo\n",
      "func name: alex\n",
      "<function bar at 0x000001844F560AF0>  metadata  bar\n"
     ]
    }
   ],
   "source": [
    "# _*_ functools.wraps(自身也是一个装饰器) _*_ #\n",
    "# 将原函数的元信息拷贝到装饰器中，使得装饰器函数与原函数的元信息一致\n",
    "from functools import wraps\n",
    "\n",
    "def logger(func):\n",
    "    @wraps(func) # 必须将function传递给wraps\n",
    "    def wrapper(*args, **kwargs):\n",
    "        print(func,\" metadata \",func.__name__)\n",
    "        return func(*args, **kwargs)        \n",
    "    return wrapper\n",
    "\n",
    "@logger\n",
    "def foo(name):\n",
    "    print('func name:',name)\n",
    "    \n",
    "foo('alex')\n",
    "\n",
    "@logger\n",
    "def bar():\n",
    "    pass\n",
    "\n",
    "bar()"
   ]
  },
  {
   "cell_type": "code",
   "execution_count": null,
   "metadata": {},
   "outputs": [],
   "source": []
  }
 ],
 "metadata": {
  "kernelspec": {
   "display_name": "Python 3",
   "language": "python",
   "name": "python3"
  },
  "language_info": {
   "codemirror_mode": {
    "name": "ipython",
    "version": 3
   },
   "file_extension": ".py",
   "mimetype": "text/x-python",
   "name": "python",
   "nbconvert_exporter": "python",
   "pygments_lexer": "ipython3",
   "version": "3.8.5"
  }
 },
 "nbformat": 4,
 "nbformat_minor": 4
}
