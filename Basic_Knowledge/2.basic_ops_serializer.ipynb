{
 "cells": [
  {
   "cell_type": "code",
   "execution_count": null,
   "metadata": {},
   "outputs": [],
   "source": [
    "# serializer/ pickling: 数据从内存写到硬盘，用于存储、传输\n",
    "# deserializer/ unpickling: 数据从硬盘读到内存，用于计算机识别\n",
    "'''\n",
    "在python中，可以使用pickle和json两个模块对数据进行序列化操作:\n",
    "    json: 跨语言，体积小，支持int,str,list,tuple,dict\n",
    "    pickle: 只支持python，及其数据类型\n",
    "'''\n",
    "# dumps / loads 参数是字符串\n",
    "# dump / load 参数是文件名"
   ]
  },
  {
   "cell_type": "code",
   "execution_count": 3,
   "metadata": {},
   "outputs": [
    {
     "name": "stdout",
     "output_type": "stream",
     "text": [
      "初始数据类型： <class 'dict'> {'roles': [{'role': 'monster', 'type': 'pig', 'life': 50}, {'role': 'donkey', 'type': 'dog', 'life': 60}]}\n",
      "\n",
      "json.dumps序列化： <class 'str'> {\"roles\": [{\"role\": \"monster\", \"type\": \"pig\", \"life\": 50}, {\"role\": \"donkey\", \"type\": \"dog\", \"life\": 60}]}\n",
      "\n",
      "json.loads反序列化： <class 'dict'> {'roles': [{'role': 'monster', 'type': 'pig', 'life': 50}, {'role': 'donkey', 'type': 'dog', 'life': 60}]}\n",
      "None <class 'NoneType'>\n",
      "{'roles': [{'role': 'monster', 'type': 'pig', 'life': 50}, {'role': 'donkey', 'type': 'dog', 'life': 60}]} <class 'dict'>\n"
     ]
    }
   ],
   "source": [
    "# _*_ json module _*_ #\n",
    "\n",
    "# json.dumps()将数据格式化成一个所有语言认识的字符串，方便别的编程语言调用\n",
    "# json.loads() 反序列化\n",
    "import json\n",
    "data = {\n",
    "    'roles':[\n",
    "        {'role':'monster','type':'pig','life':50},\n",
    "        {'role':'donkey','type':'dog','life':60},\n",
    "    ]\n",
    "}\n",
    "j_str = json.dumps(data)\n",
    "print(\"初始数据类型：\",type(data),data)\n",
    "print(\"\\njson.dumps序列化：\",type(j_str),j_str)\n",
    "\n",
    "jl = json.loads(j_str)\n",
    "print(\"\\njson.loads反序列化：\",type(jl),jl)\n",
    "\n",
    "# json.dump() 将数据序列化到文件存储\n",
    "# json.load() 从文件中读取数据并反序列化\n",
    "with open('study.json','w') as f:\n",
    "    jd = json.dump(data,f)\n",
    "    print(jd, type(jd)) # None <class 'NoneType'>\n",
    "    \n",
    "with open('study.json','r') as f:\n",
    "    jl = json.load(f)\n",
    "    print(jl, type(jl))"
   ]
  },
  {
   "cell_type": "code",
   "execution_count": 8,
   "metadata": {},
   "outputs": [
    {
     "name": "stdout",
     "output_type": "stream",
     "text": [
      "<class 'bytes'> b'\\x80\\x04\\x95V\\x00\\x00\\x00\\x00\\x00\\x00\\x00}\\x94\\x8c\\x05roles\\x94]\\x94(}\\x94(\\x8c\\x04role\\x94\\x8c\\x07monster\\x94\\x8c\\x04type\\x94\\x8c\\x03pig\\x94\\x8c\\x04life\\x94K2u}\\x94(h\\x04\\x8c\\x06donkey\\x94h\\x06\\x8c\\x03dog\\x94h\\x08K<ues.'\n",
      "\n",
      "\n",
      "<class 'dict'> {'roles': [{'role': 'monster', 'type': 'pig', 'life': 50}, {'role': 'donkey', 'type': 'dog', 'life': 60}]}\n",
      "\n",
      "\n",
      "<class 'NoneType'> None\n",
      "\n",
      "\n",
      "<class 'dict'> {'roles': [{'role': 'monster', 'type': 'pig', 'life': 50}, {'role': 'donkey', 'type': 'dog', 'life': 60}]}\n"
     ]
    }
   ],
   "source": [
    "# _*_ pickle module _*_ #\n",
    "\n",
    "import pickle\n",
    "pk_dumps = pickle.dumps(data)\n",
    "print(type(pk_dumps),pk_dumps)\n",
    "\n",
    "print('\\n')\n",
    "pk_loads = pickle.loads(pk_dumps)\n",
    "print(type(pk_loads),pk_loads)\n",
    "\n",
    "print('\\n')\n",
    "with open('study.pickle','wb') as f:\n",
    "    pk_dump = pickle.dump(data,f)\n",
    "    print(type(pk_dump),pk_dump)\n",
    "\n",
    "print('\\n')\n",
    "with open('study.pickle','rb') as f:\n",
    "    pk_load = pickle.load(f)\n",
    "    print(type(pk_load),pk_load)"
   ]
  },
  {
   "cell_type": "code",
   "execution_count": null,
   "metadata": {},
   "outputs": [],
   "source": [
    "# _*_ shelve module _*_ #\n",
    "# shelve模块很简单，只有一个open函数(执行k-v操作)，json和pickle模块只能dumps和loads只能一次\n",
    "import shelve\n",
    "f = shelve.open('shelve_test')\n",
    "\n",
    "f['names'] = ['laex','howard','batumu'] # 序列化\n",
    "print(f['names']) # 反序列化\n",
    "# del d['test']   #删除\n",
    "\n",
    "f.close()"
   ]
  },
  {
   "cell_type": "code",
   "execution_count": null,
   "metadata": {},
   "outputs": [],
   "source": [
    "# _*_ xml module _*_ #"
   ]
  }
 ],
 "metadata": {
  "kernelspec": {
   "display_name": "Python 3",
   "language": "python",
   "name": "python3"
  },
  "language_info": {
   "codemirror_mode": {
    "name": "ipython",
    "version": 3
   },
   "file_extension": ".py",
   "mimetype": "text/x-python",
   "name": "python",
   "nbconvert_exporter": "python",
   "pygments_lexer": "ipython3",
   "version": "3.8.5"
  }
 },
 "nbformat": 4,
 "nbformat_minor": 4
}
