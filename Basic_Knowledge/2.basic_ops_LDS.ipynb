{
 "cells": [
  {
   "cell_type": "code",
   "execution_count": null,
   "metadata": {},
   "outputs": [],
   "source": [
    "# two method to define set : set(list) vs {, , ,}"
   ]
  },
  {
   "cell_type": "code",
   "execution_count": 5,
   "metadata": {},
   "outputs": [
    {
     "name": "stdout",
     "output_type": "stream",
     "text": [
      "{0, 1, 2, 3, 4, 5, 6, 7} <class 'set'>\n",
      "{0, 1, 2, 3, 4, 5, 6, 7, 8, '8'}\n",
      "{0, 1, 2, 3, 4, 5, 6, 7, 8, 10, 11, '8'}\n"
     ]
    }
   ],
   "source": [
    "# 增：set.add, set.update\n",
    "# 删：set.remove\n",
    "# 查：不能通过下标索引查询\n",
    "# 改：不可变类型，无法修改元素\n",
    "\n",
    "nums = {x for x in range(8)}\n",
    "# nums = set(range(8))\n",
    "print(nums,type(nums))\n",
    "\n",
    "nums.add(8) # add每次只能增加一个元素\n",
    "nums.update('8') # update可以增加一个字符串，也可以增加多个值\n",
    "print(nums)\n",
    "\n",
    "nums.update([8,10,11])\n",
    "print(nums)"
   ]
  },
  {
   "cell_type": "code",
   "execution_count": null,
   "metadata": {},
   "outputs": [],
   "source": [
    "# 交 &\n",
    "set1 & set2\n",
    "set1.intersection(set2)\n",
    "\n",
    "# 并 |\n",
    "set1 | set2\n",
    "set1.union(set2)\n",
    "\n",
    "# 差 -\n",
    "set1 - set2\n",
    "set1.difference(set2)\n",
    "\n",
    "# 对称差集 ^\n",
    "set1 ^ set2\n",
    "set1.symmetric_difference(set2)"
   ]
  },
  {
   "cell_type": "code",
   "execution_count": 6,
   "metadata": {},
   "outputs": [
    {
     "name": "stdout",
     "output_type": "stream",
     "text": [
      "{0, 1, 2, 3, 4} [0, 1, 2, 3, 4] (0, 1, 2, 3, 4) {0, 1, 2, 3, 4}\n"
     ]
    }
   ],
   "source": [
    "# set, list, tuple, str 之间的转换\n",
    "se = set(range(5))\n",
    "li = list(se)\n",
    "tu = tuple(se)\n",
    "st = str(se)\n",
    "print(se, li, tu, st)"
   ]
  },
  {
   "cell_type": "code",
   "execution_count": 7,
   "metadata": {},
   "outputs": [
    {
     "name": "stdout",
     "output_type": "stream",
     "text": [
      "frozenset({'kaoyan', 'xiuxi', 'xuexi', 'gongzuo'}) <class 'frozenset'>\n",
      "True\n",
      "kaoyan\n",
      "xiuxi\n",
      "xuexi\n",
      "gongzuo\n",
      "{'kaoyan', 'xiuxi', 'xuexi', 'gongzuo'} <class 'set'>\n",
      "frozenset({'kaoyan', 'xiuxi', 'xuexi', 'gongzuo'})\n",
      "frozenset({'kaoyan', 'xiuxi', 'xuexi', 'gongzuo'})\n",
      "{'kaoyan', 'xiuxi', 'xuexi', 'gongzuo'}\n"
     ]
    }
   ],
   "source": [
    "#创建带数据的冰冻集合\n",
    "info = frozenset(('xuexi','gongzuo','kaoyan','xiuxi'))\n",
    "print(info,type(info))\n",
    "#成员监测\n",
    "result = 'gongzuo' in info\n",
    "print(result)\n",
    "#遍历冰冻集合\n",
    "for i in info:\n",
    "    print(i)\n",
    "#集合推导式(无法得到冰冻集合,可以得到集合,列表,元组,字典类型)\n",
    "result = {i for i in info}\n",
    "print(result,type(result))\n",
    " \n",
    "#函数\n",
    "#冰冻集合可以使用集合的函数(不修改集合本身的函数都可以使用)\n",
    "info = frozenset(('xuexi','gongzuo','kaoyan','xiuxi'))\n",
    " \n",
    "#copy()\n",
    "result = info.copy()\n",
    "print(result)\n",
    " \n",
    "#集合操作  交集,并集,差集,对称差集等  不修改冰冻集合本身就能使用:冰冻集合的操作结果都是冰冻集合\n",
    "info = frozenset(('xuexi','gongzuo','kaoyan','xiuxi'))\n",
    "info2 = {'xuexi','gongzuo','kaoyan','xiuxi'}\n",
    "#冰冻集合操作\n",
    "result = info.union(info2)\n",
    "print(result)\n",
    " \n",
    "#普通集合操作(冰冻集合是参考集合)\n",
    "result = info2.union(info)\n",
    "print(result)"
   ]
  },
  {
   "cell_type": "code",
   "execution_count": null,
   "metadata": {},
   "outputs": [],
   "source": [
    "# 字符串操作方法详解，请看下面博客：http://www.cnblogs.com/wj-1314/p/8419009.html\n",
    "\n",
    "# 字典操作方法详解，请看下面博客：http://www.cnblogs.com/wj-1314/p/8421724.html\n",
    "\n",
    "# 列表操作方法详解，请看下面博客：http://www.cnblogs.com/wj-1314/p/8433116.html"
   ]
  },
  {
   "cell_type": "code",
   "execution_count": 9,
   "metadata": {},
   "outputs": [
    {
     "name": "stdout",
     "output_type": "stream",
     "text": [
      "{'工作': 3, '玩耍': 1, '学习': 2}\n",
      "[('工作', 3), ('学习', 2), ('玩耍', 1)]\n"
     ]
    }
   ],
   "source": [
    "mylist = ['学习', '工作', '玩耍', '学习', '工作', '工作']\n",
    "myset = set(mylist)\n",
    "mydict = {}\n",
    "for item in myset:\n",
    "    res = mylist.count(item)\n",
    "    di={item:res}\n",
    "    mydict.update(di)\n",
    "    \n",
    "print(mydict)\n",
    "print(sorted(mydict.items(), key=lambda mydict:mydict[1], reverse=True))"
   ]
  },
  {
   "cell_type": "code",
   "execution_count": null,
   "metadata": {},
   "outputs": [],
   "source": [
    "'''\n",
    "python中的字典（dict）对象可使用“键/值”对的形式存取值，但默认的内置类型字典中的元素是无序的。\n",
    "Collections模块下的OrderedDict类实现了对字典的排序，OrderedDict是dict的一个子类，实现了对字典排序的功能\n",
    "'''"
   ]
  },
  {
   "cell_type": "code",
   "execution_count": 10,
   "metadata": {},
   "outputs": [
    {
     "name": "stdout",
     "output_type": "stream",
     "text": [
      "{1: {'id': 1, 'title': '菜单1'}, 2: {'id': 2, 'title': '菜单2'}, 3: {'id': 3, 'title': '菜单3'}}\n",
      "[{'id': 1, 'title': '菜单1'}, {'id': 2, 'title': '菜单2'}, {'id': 3, 'title': '菜单3'}]\n",
      "[{'id': 1, 'title': '菜单1'}, {'id': 2, 'title': '修改后的菜单2'}, {'id': 3, 'title': '菜单3'}]\n"
     ]
    }
   ],
   "source": [
    "# 对于多级字典和列表的修改\n",
    "'''\n",
    "将多级列表的内容写入一个空字典，然后在字典中修改内容，会发现列表的内容也相应的修改。\n",
    "因为它们使用的是同一个内存地址。\n",
    "\n",
    "如果想只修改字典中的内容，而让列表中的内容不变，则我们需要copy列表。\n",
    "'''\n",
    "menu_list = [\n",
    "    {'id': 1, 'title': '菜单1'},\n",
    "    {'id': 2, 'title': '菜单2'},\n",
    "    {'id': 3, 'title': '菜单3'},\n",
    "]\n",
    " \n",
    "menu_dict = {}\n",
    " \n",
    "for item in menu_list:\n",
    "    menu_dict[item['id']] = item\n",
    "    # print(item)  # {'id': 1, 'title': '菜单1'}\n",
    "    # print(item['id'])  # 1\n",
    "print(menu_dict)\n",
    " \n",
    "# 当我们这样将 menu_list 写入 menu_dict中\n",
    "# 下面我们修改 mebu_dict中的值，menu_list中的值会发生改变？？？\n",
    " \n",
    "print(menu_list)\n",
    "menu_dict[2]['title'] = '修改后的菜单2'\n",
    "print(menu_list)"
   ]
  },
  {
   "cell_type": "code",
   "execution_count": 12,
   "metadata": {},
   "outputs": [
    {
     "name": "stdout",
     "output_type": "stream",
     "text": [
      "['james']\n",
      "['durant']\n",
      "james\n",
      "{'a': ['user11111111', 'user2'], 'b': ['user3', 'user4']}\n"
     ]
    }
   ],
   "source": [
    "# 列表，字典，集合都是可变的数据类型。字符串，数字，元组均是不可变的数据类型\n",
    "# 做如下实验，将一个变量追加到list中，然后修改列表中的变量，我们发现源变量(str)是不变的\n",
    "\n",
    "user = 'james'\n",
    "lis = []\n",
    "lis.append(user)\n",
    "print(lis)\n",
    "\n",
    "lis[0] = 'durant'\n",
    "print(lis)\n",
    "print(user)\n",
    "'''\n",
    "['james']\n",
    "['durant']\n",
    "james\n",
    "'''\n",
    "#当我们将字典的内容，放到列表中，并修改列表中的内容，字典的内容却会发生改变：\n",
    "\n",
    "dic = {\n",
    "    'a': ['user1', 'user2'],\n",
    "    'b': ['user3', 'user4']\n",
    "}\n",
    "lis = []\n",
    " \n",
    "for i in dic.values():\n",
    "    lis.append(i)\n",
    "lis[0][0] = 'user11111111'\n",
    "print(dic)\n",
    "# 结果如下：\n",
    "# {'a': ['user11111111', 'user2'], 'b': ['user3', 'user4']}\n"
   ]
  },
  {
   "cell_type": "code",
   "execution_count": null,
   "metadata": {},
   "outputs": [],
   "source": []
  }
 ],
 "metadata": {
  "kernelspec": {
   "display_name": "Python 3",
   "language": "python",
   "name": "python3"
  },
  "language_info": {
   "codemirror_mode": {
    "name": "ipython",
    "version": 3
   },
   "file_extension": ".py",
   "mimetype": "text/x-python",
   "name": "python",
   "nbconvert_exporter": "python",
   "pygments_lexer": "ipython3",
   "version": "3.8.5"
  }
 },
 "nbformat": 4,
 "nbformat_minor": 4
}
