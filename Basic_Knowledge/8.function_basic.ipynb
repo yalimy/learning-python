{
 "cells": [
  {
   "cell_type": "code",
   "execution_count": null,
   "metadata": {},
   "outputs": [],
   "source": [
    "'''\n",
    "一、函数参数：\n",
    "1.必须参数 & 关键字参数\n",
    "    eg. 1\n",
    "    def func(name, age)\n",
    "->  func('A', 16) # 必须参数\n",
    "->  func(age=16, name='A') # 关键字参数\n",
    "\n",
    "2.缺省参数(默认参数)：\n",
    "    eg. 2\n",
    "    def user_info(name, age, sex='male') # sex 为默认参数\n",
    "    \n",
    "3.不定长参数：加了星号（*）的变量名会存放所有未命名的变量参数。而加(**)的变量名会存放命名的变量参数\n",
    "    eg. 3\n",
    "    def func(para1,[para2,]*args[, **kwargs])\n",
    "\n",
    "4.高阶函数：可以接受多个参数作为输入，并输出一个函数的函数\n",
    "\n",
    "\n",
    "二、返回值：\n",
    "函数一旦执行return，就意味着整个function的结束，未指定return 则返回值为None，否则返回一个元组\n",
    "\n",
    "\n",
    "三、作用域：\n",
    "L(local,function) 》 E(enclosing,嵌套的父级函数) 》 G(global,模块级) 》 B(build-in,python内置变量)\n",
    "\n",
    "\n",
    "四、Python内置函数\n",
    "'''"
   ]
  },
  {
   "cell_type": "code",
   "execution_count": 9,
   "metadata": {},
   "outputs": [
    {
     "name": "stdout",
     "output_type": "stream",
     "text": [
      "The 1st transfer method:\n",
      "name: alex\n",
      "args: 18\n",
      "kwargs:\n",
      "hobby = girl\n",
      "nationality = Chinese\n",
      "ability = Python\n",
      "\n",
      "The 2nd transfer method:\n",
      "name: 1\n",
      "args: 2 6\n",
      "kwargs:\n",
      "\n",
      "The third transfer method:\n",
      "name: Alex\n",
      "args:\n",
      "kwargs:\n",
      "hobby = girl\n"
     ]
    }
   ],
   "source": [
    "# _*_ 传参 _*_ #\n",
    "\n",
    "def print_info(name, *args, **kwargs):\n",
    "    print('name:',name)\n",
    "    print('args:',*args)\n",
    "    print('kwargs:')\n",
    "    for k,v in kwargs.items():\n",
    "        print(k,'=',v)\n",
    "print('The 1st transfer method:')\n",
    "print_info('alex',18,hobby='girl',nationality='Chinese',ability='Python')\n",
    "\n",
    "print('\\nThe 2nd transfer method:')\n",
    "# * 这个要注意参数 name * #\n",
    "print_info(*[1,2,6])\n",
    "\n",
    "print('\\nThe third transfer method:')\n",
    "# * 这个要注意参数 name * #\n",
    "print_info(**{'name':'Alex','hobby':'girl'})\n"
   ]
  },
  {
   "cell_type": "code",
   "execution_count": 16,
   "metadata": {},
   "outputs": [
    {
     "name": "stdout",
     "output_type": "stream",
     "text": [
      "0\n",
      "1\n",
      "1\n",
      "1\n"
     ]
    }
   ],
   "source": [
    "# _*_ 变量作用域 _*_ #\n",
    "\n",
    "# 全局变量使用关键字 global， 嵌套作用域的变量使用关键字 nonlocal\n",
    "x = int(2.9)\n",
    "\n",
    "g_count = 0\n",
    "def outer():\n",
    "    o_count = 1\n",
    "    def inner():\n",
    "        i_count = 2\n",
    "        print(o_count)\n",
    "        global g_count\n",
    "        g_count += 1\n",
    "        print(g_count)\n",
    "\n",
    "    print(g_count)\n",
    "    return inner()\n",
    "    # print(i_count) 找不到 \n",
    "outer()\n",
    "# print(o_count) 找不到\n",
    "print(g_count) # 已经被inner()修改\n"
   ]
  },
  {
   "cell_type": "code",
   "execution_count": 31,
   "metadata": {},
   "outputs": [
    {
     "name": "stdout",
     "output_type": "stream",
     "text": [
      "[0, 2, 4, 6, 8, 10, 12, 14]\n",
      "0 1 2\n",
      "5050\n",
      "5070\n",
      "6\n"
     ]
    },
    {
     "data": {
      "text/plain": [
       "[('c', 1), ('b', 2), ('a', 3)]"
      ]
     },
     "execution_count": 31,
     "metadata": {},
     "output_type": "execute_result"
    }
   ],
   "source": [
    "# _*_ 内置函数 _*_ #\n",
    "\n",
    "'''\n",
    "1.filter(function, sequence): 对sequence中的item依次执行function(item),将TRUE的 item 组成一个迭代器返回\n",
    "    list(filter(func, seq))\n",
    "\n",
    "2.map(function, sequence): 将function依次用于sequence，并返回迭代器\n",
    "    list(map(function, seq))\n",
    "    \n",
    "3.functools.reduce(function, sequence, starting_value):\n",
    "\n",
    "4.匿名函数 lambda\n",
    "\n",
    "5.python.int VS numpy.int64:\n",
    "    int64不会报除0的错误(事实上numpy中的其他类型也不会报错，比如float64等)\n",
    "    而int会报除0错误(其他基本类型也会，比如float等)\n",
    "    \n",
    "6.sorted(seq, key=None, reverse=False): 默认升序排列\n",
    "'''\n",
    "# map\n",
    "print(list(map(lambda x,y: x+y, range(8), range(8))))\n",
    "# 自动解包map\n",
    "x, y, z = map(str, range(3)) \n",
    "print(x, y, z)\n",
    "\n",
    "# reduce\n",
    "from functools import reduce\n",
    "print(reduce(lambda x,y: x+y, range(1,101)))\n",
    "print(reduce(lambda x,y: x+y, range(1,101), 20))\n",
    "\n",
    "# lambda\n",
    "print((lambda x,y: x+y)(2, 4))\n",
    "\n",
    "# sorted\n",
    "# sorted dict refer : https://www.cnblogs.com/xyao1/p/11022127.html\n",
    "sorted([('a', 3), ('b', 2), ('c', 1)], key=lambda x: x[0], reverse=True)\n",
    "\n"
   ]
  },
  {
   "cell_type": "code",
   "execution_count": 27,
   "metadata": {},
   "outputs": [
    {
     "name": "stdout",
     "output_type": "stream",
     "text": [
      "0 1 2\n"
     ]
    }
   ],
   "source": [
    "help(sorted)"
   ]
  },
  {
   "cell_type": "code",
   "execution_count": 34,
   "metadata": {},
   "outputs": [
    {
     "name": "stdout",
     "output_type": "stream",
     "text": [
      "a b c\n",
      "('a', 'x') ('b', 1) ('c', 3)\n",
      "x 1 3\n",
      "(1, 'a')\n",
      "(2, 'b')\n",
      "(3, 'c')\n",
      "[(1, 4, 7), (2, 5, 8), (3, 6, 9)]\n"
     ]
    }
   ],
   "source": [
    "# _*_ 内置函数 序列解包zip 详解_*_ #\n",
    "\n",
    "# 对字典解包\n",
    "dicts = {'a': 'x', 'b': 1, 'c': 3}\n",
    "q, w, e = dicts         # == dicts.keys()\n",
    "r, t, y = dicts.items() # tuples\n",
    "i, o, p = dicts.values()\n",
    "print(q, w, e)\n",
    "print(r, t, y)\n",
    "print(i, o, p)\n",
    "\n",
    "# 用序列解包同时便利多个序列\n",
    "list_1 = [1, 2, 3, 4]\n",
    "list_2 = ['a', 'b', 'c']\n",
    "  \n",
    "for x, y in zip(list_1, list_2): # 以短序列为准\n",
    "    print((x, y))\n",
    "    \n",
    "x = [1, 2, 3]\n",
    "y = [4, 5, 6]\n",
    "z = [7, 8, 9]\n",
    "#Python3.x\n",
    "xyz = list(zip(x, y, z))\n",
    "print(xyz)"
   ]
  },
  {
   "cell_type": "code",
   "execution_count": null,
   "metadata": {},
   "outputs": [],
   "source": []
  }
 ],
 "metadata": {
  "kernelspec": {
   "display_name": "Python 3",
   "language": "python",
   "name": "python3"
  },
  "language_info": {
   "codemirror_mode": {
    "name": "ipython",
    "version": 3
   },
   "file_extension": ".py",
   "mimetype": "text/x-python",
   "name": "python",
   "nbconvert_exporter": "python",
   "pygments_lexer": "ipython3",
   "version": "3.8.5"
  }
 },
 "nbformat": 4,
 "nbformat_minor": 4
}
